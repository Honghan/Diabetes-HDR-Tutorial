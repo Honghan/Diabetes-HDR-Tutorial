{
 "cells": [
  {
   "cell_type": "markdown",
   "metadata": {},
   "source": [
    "## HDR Tutorial - Phenotype Computation\n",
    "- Tutors: Minhong Wang, Honghan Wu, Debbie Wake\n",
    "- University of Edinburgh\n",
    "- March 2021\n",
    "\n",
    "## Summary\n",
    "This tutorial illustrates the streamlined pipeline of applying health data science on routine data for research.\n",
    "\n",
    "## Table of Content\n",
    "1. Type 2 Diabetes by Diagnosis\n",
    "2. Type 2 Diabetes by Lab Test Results\n",
    "3. Drug episodes\n"
   ]
  },
  {
   "cell_type": "markdown",
   "metadata": {},
   "source": [
    "## Phenotype definitions for Type 2 Diabetes"
   ]
  },
  {
   "cell_type": "markdown",
   "metadata": {},
   "source": [
    "### Load the packages\n",
    "If the packages are installed already, then you can skip this step and load the libraries directly."
   ]
  },
  {
   "cell_type": "code",
   "execution_count": 10,
   "metadata": {},
   "outputs": [
    {
     "name": "stderr",
     "output_type": "stream",
     "text": [
      "Updating HTML index of packages in '.Library'\n",
      "\n",
      "Making 'packages.html' ...\n",
      " done\n",
      "\n",
      "Updating HTML index of packages in '.Library'\n",
      "\n",
      "Making 'packages.html' ...\n",
      " done\n",
      "\n",
      "Updating HTML index of packages in '.Library'\n",
      "\n",
      "Making 'packages.html' ...\n",
      " done\n",
      "\n"
     ]
    }
   ],
   "source": [
    "install.packages(\"RPostgres\")\n",
    "install.packages(\"DBI\")\n",
    "install.packages(\"ggplot2\")"
   ]
  },
  {
   "cell_type": "code",
   "execution_count": 1,
   "metadata": {},
   "outputs": [],
   "source": [
    "# load the libraries needed for this tutorial\n",
    "library(RPostgres)\n",
    "library(DBI)"
   ]
  },
  {
   "cell_type": "markdown",
   "metadata": {},
   "source": [
    "### Connect to the database\n",
    "Based on the tables we generated in the previous section, we prepared the database (called `tutorial`) of the Common Data Model in PostgreSQL.\n",
    "\n",
    "The SQL scripts for creating the Common Data Model can be find here: <https://github.com/OHDSI/CommonDataModel/tree/master/PostgreSQL>\n",
    "\n",
    "A summary of the steps of creating an instantiation of the Common Data Model:\n",
    "- Create an empty schema\n",
    "- Create the tables and fields\n",
    "- Load the data into the schema\n",
    "- Add the set of indexes and primary keys\n",
    "- Add the constraints (foreign keys)\n",
    "\n",
    "Here, we access the database we prepared from R."
   ]
  },
  {
   "cell_type": "code",
   "execution_count": 6,
   "metadata": {},
   "outputs": [
    {
     "data": {
      "text/html": [
       "<style>\n",
       ".list-inline {list-style: none; margin:0; padding: 0}\n",
       ".list-inline>li {display: inline-block}\n",
       ".list-inline>li:not(:last-child)::after {content: \"\\00b7\"; padding: 0 .5ex}\n",
       "</style>\n",
       "<ol class=list-inline><li>'concept'</li><li>'concept_relationship'</li><li>'attribute_definition'</li><li>'cdm_source'</li><li>'metadata'</li><li>'vocabulary'</li><li>'domain'</li><li>'concept_class'</li><li>'relationship'</li><li>'concept_synonym'</li><li>'drug_exposure'</li><li>'device_exposure'</li><li>'location'</li><li>'provider'</li><li>'care_site'</li><li>'observation'</li><li>'fact_relationship'</li><li>'location_history'</li><li>'survey_conduct'</li><li>'concept_ancestor'</li><li>'source_to_concept_map'</li><li>'person'</li><li>'drug_strength'</li><li>'observation_period'</li><li>'specimen'</li><li>'visit_occurrence'</li><li>'visit_detail'</li><li>'procedure_occurrence'</li><li>'condition_occurrence'</li><li>'measurement'</li><li>'note'</li><li>'note_nlp'</li><li>'payer_plan_period'</li><li>'cost'</li><li>'drug_era'</li><li>'dose_era'</li><li>'condition_era'</li></ol>\n"
      ],
      "text/latex": [
       "\\begin{enumerate*}\n",
       "\\item 'concept'\n",
       "\\item 'concept\\_relationship'\n",
       "\\item 'attribute\\_definition'\n",
       "\\item 'cdm\\_source'\n",
       "\\item 'metadata'\n",
       "\\item 'vocabulary'\n",
       "\\item 'domain'\n",
       "\\item 'concept\\_class'\n",
       "\\item 'relationship'\n",
       "\\item 'concept\\_synonym'\n",
       "\\item 'drug\\_exposure'\n",
       "\\item 'device\\_exposure'\n",
       "\\item 'location'\n",
       "\\item 'provider'\n",
       "\\item 'care\\_site'\n",
       "\\item 'observation'\n",
       "\\item 'fact\\_relationship'\n",
       "\\item 'location\\_history'\n",
       "\\item 'survey\\_conduct'\n",
       "\\item 'concept\\_ancestor'\n",
       "\\item 'source\\_to\\_concept\\_map'\n",
       "\\item 'person'\n",
       "\\item 'drug\\_strength'\n",
       "\\item 'observation\\_period'\n",
       "\\item 'specimen'\n",
       "\\item 'visit\\_occurrence'\n",
       "\\item 'visit\\_detail'\n",
       "\\item 'procedure\\_occurrence'\n",
       "\\item 'condition\\_occurrence'\n",
       "\\item 'measurement'\n",
       "\\item 'note'\n",
       "\\item 'note\\_nlp'\n",
       "\\item 'payer\\_plan\\_period'\n",
       "\\item 'cost'\n",
       "\\item 'drug\\_era'\n",
       "\\item 'dose\\_era'\n",
       "\\item 'condition\\_era'\n",
       "\\end{enumerate*}\n"
      ],
      "text/markdown": [
       "1. 'concept'\n",
       "2. 'concept_relationship'\n",
       "3. 'attribute_definition'\n",
       "4. 'cdm_source'\n",
       "5. 'metadata'\n",
       "6. 'vocabulary'\n",
       "7. 'domain'\n",
       "8. 'concept_class'\n",
       "9. 'relationship'\n",
       "10. 'concept_synonym'\n",
       "11. 'drug_exposure'\n",
       "12. 'device_exposure'\n",
       "13. 'location'\n",
       "14. 'provider'\n",
       "15. 'care_site'\n",
       "16. 'observation'\n",
       "17. 'fact_relationship'\n",
       "18. 'location_history'\n",
       "19. 'survey_conduct'\n",
       "20. 'concept_ancestor'\n",
       "21. 'source_to_concept_map'\n",
       "22. 'person'\n",
       "23. 'drug_strength'\n",
       "24. 'observation_period'\n",
       "25. 'specimen'\n",
       "26. 'visit_occurrence'\n",
       "27. 'visit_detail'\n",
       "28. 'procedure_occurrence'\n",
       "29. 'condition_occurrence'\n",
       "30. 'measurement'\n",
       "31. 'note'\n",
       "32. 'note_nlp'\n",
       "33. 'payer_plan_period'\n",
       "34. 'cost'\n",
       "35. 'drug_era'\n",
       "36. 'dose_era'\n",
       "37. 'condition_era'\n",
       "\n",
       "\n"
      ],
      "text/plain": [
       " [1] \"concept\"               \"concept_relationship\"  \"attribute_definition\" \n",
       " [4] \"cdm_source\"            \"metadata\"              \"vocabulary\"           \n",
       " [7] \"domain\"                \"concept_class\"         \"relationship\"         \n",
       "[10] \"concept_synonym\"       \"drug_exposure\"         \"device_exposure\"      \n",
       "[13] \"location\"              \"provider\"              \"care_site\"            \n",
       "[16] \"observation\"           \"fact_relationship\"     \"location_history\"     \n",
       "[19] \"survey_conduct\"        \"concept_ancestor\"      \"source_to_concept_map\"\n",
       "[22] \"person\"                \"drug_strength\"         \"observation_period\"   \n",
       "[25] \"specimen\"              \"visit_occurrence\"      \"visit_detail\"         \n",
       "[28] \"procedure_occurrence\"  \"condition_occurrence\"  \"measurement\"          \n",
       "[31] \"note\"                  \"note_nlp\"              \"payer_plan_period\"    \n",
       "[34] \"cost\"                  \"drug_era\"              \"dose_era\"             \n",
       "[37] \"condition_era\"        "
      ]
     },
     "metadata": {},
     "output_type": "display_data"
    }
   ],
   "source": [
    "# connect to the database\n",
    "\n",
    "pw <- {\n",
    "  \"tutorial\"\n",
    "}\n",
    "\n",
    "con <- dbConnect(RPostgres::Postgres(),\n",
    "                 host = 'postgres',   \n",
    "                 port = 5432,\n",
    "                 dbname = 'tutorial',\n",
    "                 user = 'postgres',\n",
    "                 password = pw)\n",
    "\n",
    "# test the connection, list all the tables\n",
    "dbListTables(con)"
   ]
  },
  {
   "cell_type": "markdown",
   "metadata": {},
   "source": [
    "The tables we use for this tutorials are:\n",
    "- concept: a reference table\n",
    "- person: demographic data\n",
    "- visit_occurrence: adminission data\n",
    "- condition_occurrence: diagnosis\n",
    "- drug_exposure: drug\n",
    "- measurement: lab tests"
   ]
  },
  {
   "cell_type": "markdown",
   "metadata": {},
   "source": [
    "### SQL query\n",
    "After connecting to the database, we can use SQL scripts to query the patients data. \n",
    "- The`SELECT` statement retrieves data from a datase. Use `SELECT *` to select all columns. For example\n",
    "\n",
    "`SELECT column1, column 2,...\n",
    " FROM table_name;`\n",
    "\n",
    "- The `WHERE` clause is used to filter records. It is used to extract only those records that fulfill a specific condition."
   ]
  },
  {
   "cell_type": "code",
   "execution_count": 7,
   "metadata": {
    "scrolled": true
   },
   "outputs": [
    {
     "data": {
      "text/html": [
       "<table>\n",
       "<caption>A data.frame: 6 × 19</caption>\n",
       "<thead>\n",
       "\t<tr><th></th><th scope=col>person_id</th><th scope=col>gender_concept_id</th><th scope=col>year_of_birth</th><th scope=col>month_of_birth</th><th scope=col>day_of_birth</th><th scope=col>birth_datetime</th><th scope=col>death_datetime</th><th scope=col>race_concept_id</th><th scope=col>ethnicity_concept_id</th><th scope=col>location_id</th><th scope=col>provider_id</th><th scope=col>care_site_id</th><th scope=col>person_source_value</th><th scope=col>gender_source_value</th><th scope=col>gender_source_concept_id</th><th scope=col>race_source_value</th><th scope=col>race_source_concept_id</th><th scope=col>ethnicity_source_value</th><th scope=col>ethnicity_source_concept_id</th></tr>\n",
       "\t<tr><th></th><th scope=col>&lt;int64&gt;</th><th scope=col>&lt;int&gt;</th><th scope=col>&lt;int&gt;</th><th scope=col>&lt;int&gt;</th><th scope=col>&lt;int&gt;</th><th scope=col>&lt;dttm&gt;</th><th scope=col>&lt;dttm&gt;</th><th scope=col>&lt;int&gt;</th><th scope=col>&lt;int&gt;</th><th scope=col>&lt;int64&gt;</th><th scope=col>&lt;int64&gt;</th><th scope=col>&lt;int64&gt;</th><th scope=col>&lt;chr&gt;</th><th scope=col>&lt;chr&gt;</th><th scope=col>&lt;int&gt;</th><th scope=col>&lt;chr&gt;</th><th scope=col>&lt;int&gt;</th><th scope=col>&lt;chr&gt;</th><th scope=col>&lt;int&gt;</th></tr>\n",
       "</thead>\n",
       "<tbody>\n",
       "\t<tr><th scope=row>1</th><td>101913723</td><td>1</td><td>1991</td><td>NA</td><td>NA</td><td>NA</td><td>NA</td><td>3</td><td>4</td><td>NA</td><td>NA</td><td>NA</td><td>NA</td><td>NA</td><td>0</td><td>NA</td><td>0</td><td>NA</td><td>0</td></tr>\n",
       "\t<tr><th scope=row>2</th><td>102355828</td><td>1</td><td>1935</td><td>NA</td><td>NA</td><td>NA</td><td>NA</td><td>3</td><td>4</td><td>NA</td><td>NA</td><td>NA</td><td>NA</td><td>NA</td><td>0</td><td>NA</td><td>0</td><td>NA</td><td>0</td></tr>\n",
       "\t<tr><th scope=row>3</th><td>102722666</td><td>1</td><td>1972</td><td>NA</td><td>NA</td><td>NA</td><td>NA</td><td>3</td><td>4</td><td>NA</td><td>NA</td><td>NA</td><td>NA</td><td>NA</td><td>0</td><td>NA</td><td>0</td><td>NA</td><td>0</td></tr>\n",
       "\t<tr><th scope=row>4</th><td>103905721</td><td>1</td><td>1990</td><td>NA</td><td>NA</td><td>NA</td><td>NA</td><td>3</td><td>4</td><td>NA</td><td>NA</td><td>NA</td><td>NA</td><td>NA</td><td>0</td><td>NA</td><td>0</td><td>NA</td><td>0</td></tr>\n",
       "\t<tr><th scope=row>5</th><td>105921728</td><td>1</td><td>1992</td><td>NA</td><td>NA</td><td>NA</td><td>NA</td><td>3</td><td>4</td><td>NA</td><td>NA</td><td>NA</td><td>NA</td><td>NA</td><td>0</td><td>NA</td><td>0</td><td>NA</td><td>0</td></tr>\n",
       "\t<tr><th scope=row>6</th><td>106267208</td><td>1</td><td>1926</td><td>NA</td><td>NA</td><td>NA</td><td>NA</td><td>3</td><td>4</td><td>NA</td><td>NA</td><td>NA</td><td>NA</td><td>NA</td><td>0</td><td>NA</td><td>0</td><td>NA</td><td>0</td></tr>\n",
       "</tbody>\n",
       "</table>\n"
      ],
      "text/latex": [
       "A data.frame: 6 × 19\n",
       "\\begin{tabular}{r|lllllllllllllllllll}\n",
       "  & person\\_id & gender\\_concept\\_id & year\\_of\\_birth & month\\_of\\_birth & day\\_of\\_birth & birth\\_datetime & death\\_datetime & race\\_concept\\_id & ethnicity\\_concept\\_id & location\\_id & provider\\_id & care\\_site\\_id & person\\_source\\_value & gender\\_source\\_value & gender\\_source\\_concept\\_id & race\\_source\\_value & race\\_source\\_concept\\_id & ethnicity\\_source\\_value & ethnicity\\_source\\_concept\\_id\\\\\n",
       "  & <int64> & <int> & <int> & <int> & <int> & <dttm> & <dttm> & <int> & <int> & <int64> & <int64> & <int64> & <chr> & <chr> & <int> & <chr> & <int> & <chr> & <int>\\\\\n",
       "\\hline\n",
       "\t1 & 101913723 & 1 & 1991 & NA & NA & NA & NA & 3 & 4 & NA & NA & NA & NA & NA & 0 & NA & 0 & NA & 0\\\\\n",
       "\t2 & 102355828 & 1 & 1935 & NA & NA & NA & NA & 3 & 4 & NA & NA & NA & NA & NA & 0 & NA & 0 & NA & 0\\\\\n",
       "\t3 & 102722666 & 1 & 1972 & NA & NA & NA & NA & 3 & 4 & NA & NA & NA & NA & NA & 0 & NA & 0 & NA & 0\\\\\n",
       "\t4 & 103905721 & 1 & 1990 & NA & NA & NA & NA & 3 & 4 & NA & NA & NA & NA & NA & 0 & NA & 0 & NA & 0\\\\\n",
       "\t5 & 105921728 & 1 & 1992 & NA & NA & NA & NA & 3 & 4 & NA & NA & NA & NA & NA & 0 & NA & 0 & NA & 0\\\\\n",
       "\t6 & 106267208 & 1 & 1926 & NA & NA & NA & NA & 3 & 4 & NA & NA & NA & NA & NA & 0 & NA & 0 & NA & 0\\\\\n",
       "\\end{tabular}\n"
      ],
      "text/markdown": [
       "\n",
       "A data.frame: 6 × 19\n",
       "\n",
       "| <!--/--> | person_id &lt;int64&gt; | gender_concept_id &lt;int&gt; | year_of_birth &lt;int&gt; | month_of_birth &lt;int&gt; | day_of_birth &lt;int&gt; | birth_datetime &lt;dttm&gt; | death_datetime &lt;dttm&gt; | race_concept_id &lt;int&gt; | ethnicity_concept_id &lt;int&gt; | location_id &lt;int64&gt; | provider_id &lt;int64&gt; | care_site_id &lt;int64&gt; | person_source_value &lt;chr&gt; | gender_source_value &lt;chr&gt; | gender_source_concept_id &lt;int&gt; | race_source_value &lt;chr&gt; | race_source_concept_id &lt;int&gt; | ethnicity_source_value &lt;chr&gt; | ethnicity_source_concept_id &lt;int&gt; |\n",
       "|---|---|---|---|---|---|---|---|---|---|---|---|---|---|---|---|---|---|---|---|\n",
       "| 1 | 101913723 | 1 | 1991 | NA | NA | NA | NA | 3 | 4 | NA | NA | NA | NA | NA | 0 | NA | 0 | NA | 0 |\n",
       "| 2 | 102355828 | 1 | 1935 | NA | NA | NA | NA | 3 | 4 | NA | NA | NA | NA | NA | 0 | NA | 0 | NA | 0 |\n",
       "| 3 | 102722666 | 1 | 1972 | NA | NA | NA | NA | 3 | 4 | NA | NA | NA | NA | NA | 0 | NA | 0 | NA | 0 |\n",
       "| 4 | 103905721 | 1 | 1990 | NA | NA | NA | NA | 3 | 4 | NA | NA | NA | NA | NA | 0 | NA | 0 | NA | 0 |\n",
       "| 5 | 105921728 | 1 | 1992 | NA | NA | NA | NA | 3 | 4 | NA | NA | NA | NA | NA | 0 | NA | 0 | NA | 0 |\n",
       "| 6 | 106267208 | 1 | 1926 | NA | NA | NA | NA | 3 | 4 | NA | NA | NA | NA | NA | 0 | NA | 0 | NA | 0 |\n",
       "\n"
      ],
      "text/plain": [
       "  person_id gender_concept_id year_of_birth month_of_birth day_of_birth\n",
       "1 101913723 1                 1991          NA             NA          \n",
       "2 102355828 1                 1935          NA             NA          \n",
       "3 102722666 1                 1972          NA             NA          \n",
       "4 103905721 1                 1990          NA             NA          \n",
       "5 105921728 1                 1992          NA             NA          \n",
       "6 106267208 1                 1926          NA             NA          \n",
       "  birth_datetime death_datetime race_concept_id ethnicity_concept_id\n",
       "1 <NA>           <NA>           3               4                   \n",
       "2 <NA>           <NA>           3               4                   \n",
       "3 <NA>           <NA>           3               4                   \n",
       "4 <NA>           <NA>           3               4                   \n",
       "5 <NA>           <NA>           3               4                   \n",
       "6 <NA>           <NA>           3               4                   \n",
       "  location_id provider_id care_site_id person_source_value gender_source_value\n",
       "1 NA          NA          NA           NA                  NA                 \n",
       "2 NA          NA          NA           NA                  NA                 \n",
       "3 NA          NA          NA           NA                  NA                 \n",
       "4 NA          NA          NA           NA                  NA                 \n",
       "5 NA          NA          NA           NA                  NA                 \n",
       "6 NA          NA          NA           NA                  NA                 \n",
       "  gender_source_concept_id race_source_value race_source_concept_id\n",
       "1 0                        NA                0                     \n",
       "2 0                        NA                0                     \n",
       "3 0                        NA                0                     \n",
       "4 0                        NA                0                     \n",
       "5 0                        NA                0                     \n",
       "6 0                        NA                0                     \n",
       "  ethnicity_source_value ethnicity_source_concept_id\n",
       "1 NA                     0                          \n",
       "2 NA                     0                          \n",
       "3 NA                     0                          \n",
       "4 NA                     0                          \n",
       "5 NA                     0                          \n",
       "6 NA                     0                          "
      ]
     },
     "metadata": {},
     "output_type": "display_data"
    }
   ],
   "source": [
    "# retrieve all the records from the table person with the condition gender concept id = 1\n",
    "query1 <- \"SELECT *\n",
    "            FROM person\n",
    "            WHERE gender_concept_id = 1\"\n",
    "result1 <- dbGetQuery(con, query1)\n",
    "head(result1)"
   ]
  },
  {
   "cell_type": "markdown",
   "metadata": {},
   "source": [
    "### Quiz\n",
    "Can you retrieve all the records from the table condition_occurence with the condition that condition_concept_id = 1085?\n",
    "\n",
    "Try your query in the cell below."
   ]
  },
  {
   "cell_type": "code",
   "execution_count": 6,
   "metadata": {},
   "outputs": [
    {
     "data": {
      "text/html": [
       "<table>\n",
       "<caption>A data.frame: 6 × 16</caption>\n",
       "<thead>\n",
       "\t<tr><th></th><th scope=col>condition_occurrence_id</th><th scope=col>person_id</th><th scope=col>condition_concept_id</th><th scope=col>condition_start_date</th><th scope=col>condition_start_datetime</th><th scope=col>condition_end_date</th><th scope=col>condition_end_datetime</th><th scope=col>condition_type_concept_id</th><th scope=col>condition_status_concept_id</th><th scope=col>stop_reason</th><th scope=col>provider_id</th><th scope=col>visit_occurrence_id</th><th scope=col>visit_detail_id</th><th scope=col>condition_source_value</th><th scope=col>condition_source_concept_id</th><th scope=col>condition_status_source_value</th></tr>\n",
       "\t<tr><th></th><th scope=col>&lt;int64&gt;</th><th scope=col>&lt;int64&gt;</th><th scope=col>&lt;int&gt;</th><th scope=col>&lt;date&gt;</th><th scope=col>&lt;dttm&gt;</th><th scope=col>&lt;date&gt;</th><th scope=col>&lt;dttm&gt;</th><th scope=col>&lt;int&gt;</th><th scope=col>&lt;int&gt;</th><th scope=col>&lt;chr&gt;</th><th scope=col>&lt;int64&gt;</th><th scope=col>&lt;int64&gt;</th><th scope=col>&lt;int64&gt;</th><th scope=col>&lt;chr&gt;</th><th scope=col>&lt;int&gt;</th><th scope=col>&lt;chr&gt;</th></tr>\n",
       "</thead>\n",
       "<tbody>\n",
       "\t<tr><th scope=row>1</th><td>7515</td><td> 101169292</td><td>1085</td><td>1900-01-01</td><td>1900-01-01</td><td>2099-12-31</td><td>NA</td><td>0</td><td>0</td><td>NA</td><td>NA</td><td>NA</td><td>NA</td><td>NA</td><td>0</td><td>NA</td></tr>\n",
       "\t<tr><th scope=row>2</th><td>2341</td><td> 110217221</td><td>1085</td><td>1900-01-01</td><td>1900-01-01</td><td>2099-12-31</td><td>NA</td><td>0</td><td>0</td><td>NA</td><td>NA</td><td>NA</td><td>NA</td><td>NA</td><td>0</td><td>NA</td></tr>\n",
       "\t<tr><th scope=row>3</th><td>8986</td><td> 206877335</td><td>1085</td><td>1900-01-01</td><td>1900-01-01</td><td>2099-12-31</td><td>NA</td><td>0</td><td>0</td><td>NA</td><td>NA</td><td>NA</td><td>NA</td><td>NA</td><td>0</td><td>NA</td></tr>\n",
       "\t<tr><th scope=row>4</th><td>7500</td><td> 602067522</td><td>1085</td><td>1900-01-01</td><td>1900-01-01</td><td>2099-12-31</td><td>NA</td><td>0</td><td>0</td><td>NA</td><td>NA</td><td>NA</td><td>NA</td><td>NA</td><td>0</td><td>NA</td></tr>\n",
       "\t<tr><th scope=row>5</th><td>8911</td><td>1009384905</td><td>1085</td><td>1900-01-01</td><td>1900-01-01</td><td>2099-12-31</td><td>NA</td><td>0</td><td>0</td><td>NA</td><td>NA</td><td>NA</td><td>NA</td><td>NA</td><td>0</td><td>NA</td></tr>\n",
       "\t<tr><th scope=row>6</th><td>6809</td><td>1301748720</td><td>1085</td><td>1900-01-01</td><td>1900-01-01</td><td>2099-12-31</td><td>NA</td><td>0</td><td>0</td><td>NA</td><td>NA</td><td>NA</td><td>NA</td><td>NA</td><td>0</td><td>NA</td></tr>\n",
       "</tbody>\n",
       "</table>\n"
      ],
      "text/latex": [
       "A data.frame: 6 × 16\n",
       "\\begin{tabular}{r|llllllllllllllll}\n",
       "  & condition\\_occurrence\\_id & person\\_id & condition\\_concept\\_id & condition\\_start\\_date & condition\\_start\\_datetime & condition\\_end\\_date & condition\\_end\\_datetime & condition\\_type\\_concept\\_id & condition\\_status\\_concept\\_id & stop\\_reason & provider\\_id & visit\\_occurrence\\_id & visit\\_detail\\_id & condition\\_source\\_value & condition\\_source\\_concept\\_id & condition\\_status\\_source\\_value\\\\\n",
       "  & <int64> & <int64> & <int> & <date> & <dttm> & <date> & <dttm> & <int> & <int> & <chr> & <int64> & <int64> & <int64> & <chr> & <int> & <chr>\\\\\n",
       "\\hline\n",
       "\t1 & 7515 &  101169292 & 1085 & 1900-01-01 & 1900-01-01 & 2099-12-31 & NA & 0 & 0 & NA & NA & NA & NA & NA & 0 & NA\\\\\n",
       "\t2 & 2341 &  110217221 & 1085 & 1900-01-01 & 1900-01-01 & 2099-12-31 & NA & 0 & 0 & NA & NA & NA & NA & NA & 0 & NA\\\\\n",
       "\t3 & 8986 &  206877335 & 1085 & 1900-01-01 & 1900-01-01 & 2099-12-31 & NA & 0 & 0 & NA & NA & NA & NA & NA & 0 & NA\\\\\n",
       "\t4 & 7500 &  602067522 & 1085 & 1900-01-01 & 1900-01-01 & 2099-12-31 & NA & 0 & 0 & NA & NA & NA & NA & NA & 0 & NA\\\\\n",
       "\t5 & 8911 & 1009384905 & 1085 & 1900-01-01 & 1900-01-01 & 2099-12-31 & NA & 0 & 0 & NA & NA & NA & NA & NA & 0 & NA\\\\\n",
       "\t6 & 6809 & 1301748720 & 1085 & 1900-01-01 & 1900-01-01 & 2099-12-31 & NA & 0 & 0 & NA & NA & NA & NA & NA & 0 & NA\\\\\n",
       "\\end{tabular}\n"
      ],
      "text/markdown": [
       "\n",
       "A data.frame: 6 × 16\n",
       "\n",
       "| <!--/--> | condition_occurrence_id &lt;int64&gt; | person_id &lt;int64&gt; | condition_concept_id &lt;int&gt; | condition_start_date &lt;date&gt; | condition_start_datetime &lt;dttm&gt; | condition_end_date &lt;date&gt; | condition_end_datetime &lt;dttm&gt; | condition_type_concept_id &lt;int&gt; | condition_status_concept_id &lt;int&gt; | stop_reason &lt;chr&gt; | provider_id &lt;int64&gt; | visit_occurrence_id &lt;int64&gt; | visit_detail_id &lt;int64&gt; | condition_source_value &lt;chr&gt; | condition_source_concept_id &lt;int&gt; | condition_status_source_value &lt;chr&gt; |\n",
       "|---|---|---|---|---|---|---|---|---|---|---|---|---|---|---|---|---|\n",
       "| 1 | 7515 |  101169292 | 1085 | 1900-01-01 | 1900-01-01 | 2099-12-31 | NA | 0 | 0 | NA | NA | NA | NA | NA | 0 | NA |\n",
       "| 2 | 2341 |  110217221 | 1085 | 1900-01-01 | 1900-01-01 | 2099-12-31 | NA | 0 | 0 | NA | NA | NA | NA | NA | 0 | NA |\n",
       "| 3 | 8986 |  206877335 | 1085 | 1900-01-01 | 1900-01-01 | 2099-12-31 | NA | 0 | 0 | NA | NA | NA | NA | NA | 0 | NA |\n",
       "| 4 | 7500 |  602067522 | 1085 | 1900-01-01 | 1900-01-01 | 2099-12-31 | NA | 0 | 0 | NA | NA | NA | NA | NA | 0 | NA |\n",
       "| 5 | 8911 | 1009384905 | 1085 | 1900-01-01 | 1900-01-01 | 2099-12-31 | NA | 0 | 0 | NA | NA | NA | NA | NA | 0 | NA |\n",
       "| 6 | 6809 | 1301748720 | 1085 | 1900-01-01 | 1900-01-01 | 2099-12-31 | NA | 0 | 0 | NA | NA | NA | NA | NA | 0 | NA |\n",
       "\n"
      ],
      "text/plain": [
       "  condition_occurrence_id person_id  condition_concept_id condition_start_date\n",
       "1 7515                     101169292 1085                 1900-01-01          \n",
       "2 2341                     110217221 1085                 1900-01-01          \n",
       "3 8986                     206877335 1085                 1900-01-01          \n",
       "4 7500                     602067522 1085                 1900-01-01          \n",
       "5 8911                    1009384905 1085                 1900-01-01          \n",
       "6 6809                    1301748720 1085                 1900-01-01          \n",
       "  condition_start_datetime condition_end_date condition_end_datetime\n",
       "1 1900-01-01               2099-12-31         <NA>                  \n",
       "2 1900-01-01               2099-12-31         <NA>                  \n",
       "3 1900-01-01               2099-12-31         <NA>                  \n",
       "4 1900-01-01               2099-12-31         <NA>                  \n",
       "5 1900-01-01               2099-12-31         <NA>                  \n",
       "6 1900-01-01               2099-12-31         <NA>                  \n",
       "  condition_type_concept_id condition_status_concept_id stop_reason provider_id\n",
       "1 0                         0                           NA          NA         \n",
       "2 0                         0                           NA          NA         \n",
       "3 0                         0                           NA          NA         \n",
       "4 0                         0                           NA          NA         \n",
       "5 0                         0                           NA          NA         \n",
       "6 0                         0                           NA          NA         \n",
       "  visit_occurrence_id visit_detail_id condition_source_value\n",
       "1 NA                  NA              NA                    \n",
       "2 NA                  NA              NA                    \n",
       "3 NA                  NA              NA                    \n",
       "4 NA                  NA              NA                    \n",
       "5 NA                  NA              NA                    \n",
       "6 NA                  NA              NA                    \n",
       "  condition_source_concept_id condition_status_source_value\n",
       "1 0                           NA                           \n",
       "2 0                           NA                           \n",
       "3 0                           NA                           \n",
       "4 0                           NA                           \n",
       "5 0                           NA                           \n",
       "6 0                           NA                           "
      ]
     },
     "metadata": {},
     "output_type": "display_data"
    }
   ],
   "source": [
    "# quiz - retrieve all the records from the table condition_occurrence with the condition that condition_concept_id = 1085\n",
    "query2 <- \"SELECT *\n",
    "            FROM condition_occurrence\n",
    "            WHERE condition_concept_id = 1085\"\n",
    "result2 <- dbGetQuery(con, query2)\n",
    "head(result2)"
   ]
  },
  {
   "cell_type": "markdown",
   "metadata": {},
   "source": [
    "### Retrieve type 2 diabetes patients based on diagnoses\n",
    "\n",
    "We focus on secondary care data in this tutorial. According to CALIBER diabetes mellitus phenotype, we can find the ICD-10 code of diabetes here <https://www.caliberresearch.org/portal/phenotypes/diabetes>.\n",
    "\n",
    "Here, we focus on the type 2 diabetes (non insulindependend diabetes). Hence, we want to find all patients with diagnosis coded in E11*. Three tables will be used for this query: person, condition_occurrence, and concept."
   ]
  },
  {
   "cell_type": "code",
   "execution_count": 5,
   "metadata": {},
   "outputs": [
    {
     "data": {
      "text/html": [
       "<table>\n",
       "<caption>A data.frame: 6 × 3</caption>\n",
       "<thead>\n",
       "\t<tr><th></th><th scope=col>person_id</th><th scope=col>gender_concept_id</th><th scope=col>year_of_birth</th></tr>\n",
       "\t<tr><th></th><th scope=col>&lt;int64&gt;</th><th scope=col>&lt;int&gt;</th><th scope=col>&lt;int&gt;</th></tr>\n",
       "</thead>\n",
       "<tbody>\n",
       "\t<tr><th scope=row>1</th><td>1810841405</td><td>1</td><td>1984</td></tr>\n",
       "\t<tr><th scope=row>2</th><td>2705312717</td><td>2</td><td>1931</td></tr>\n",
       "\t<tr><th scope=row>3</th><td> 108101128</td><td>1</td><td>2010</td></tr>\n",
       "\t<tr><th scope=row>4</th><td> 212257965</td><td>1</td><td>1925</td></tr>\n",
       "\t<tr><th scope=row>5</th><td> 312245854</td><td>2</td><td>1924</td></tr>\n",
       "\t<tr><th scope=row>6</th><td> 407368314</td><td>2</td><td>1936</td></tr>\n",
       "</tbody>\n",
       "</table>\n"
      ],
      "text/latex": [
       "A data.frame: 6 × 3\n",
       "\\begin{tabular}{r|lll}\n",
       "  & person\\_id & gender\\_concept\\_id & year\\_of\\_birth\\\\\n",
       "  & <int64> & <int> & <int>\\\\\n",
       "\\hline\n",
       "\t1 & 1810841405 & 1 & 1984\\\\\n",
       "\t2 & 2705312717 & 2 & 1931\\\\\n",
       "\t3 &  108101128 & 1 & 2010\\\\\n",
       "\t4 &  212257965 & 1 & 1925\\\\\n",
       "\t5 &  312245854 & 2 & 1924\\\\\n",
       "\t6 &  407368314 & 2 & 1936\\\\\n",
       "\\end{tabular}\n"
      ],
      "text/markdown": [
       "\n",
       "A data.frame: 6 × 3\n",
       "\n",
       "| <!--/--> | person_id &lt;int64&gt; | gender_concept_id &lt;int&gt; | year_of_birth &lt;int&gt; |\n",
       "|---|---|---|---|\n",
       "| 1 | 1810841405 | 1 | 1984 |\n",
       "| 2 | 2705312717 | 2 | 1931 |\n",
       "| 3 |  108101128 | 1 | 2010 |\n",
       "| 4 |  212257965 | 1 | 1925 |\n",
       "| 5 |  312245854 | 2 | 1924 |\n",
       "| 6 |  407368314 | 2 | 1936 |\n",
       "\n"
      ],
      "text/plain": [
       "  person_id  gender_concept_id year_of_birth\n",
       "1 1810841405 1                 1984         \n",
       "2 2705312717 2                 1931         \n",
       "3  108101128 1                 2010         \n",
       "4  212257965 1                 1925         \n",
       "5  312245854 2                 1924         \n",
       "6  407368314 2                 1936         "
      ]
     },
     "metadata": {},
     "output_type": "display_data"
    }
   ],
   "source": [
    "# the sql code for query\n",
    "diabetes_condition <- \"SELECT person.person_id, person.gender_concept_id, person.year_of_birth\n",
    "                  FROM person, condition_occurrence, concept\n",
    "                  WHERE person.person_id = condition_occurrence.person_id\n",
    "                  AND condition_occurrence.condition_concept_id = concept.concept_id\n",
    "                  AND concept.concept_name ~ '^E11.*'\"\n",
    "# for all types of diabetes: '^(E10|E11|E12|O242).*'\n",
    "\n",
    "# store the query results in a data frame called patient_diabetes1\n",
    "patient_diabetes1 <- dbGetQuery(con,diabetes_condition)\n",
    "head(patient_diabetes1)"
   ]
  },
  {
   "cell_type": "markdown",
   "metadata": {},
   "source": [
    "### Quiz\n",
    "Similar to retrieve all the patients with type 2 diabetes, can you retrieve all the patients with acute myocardial infarction based on their diagnosis?"
   ]
  },
  {
   "cell_type": "code",
   "execution_count": 12,
   "metadata": {},
   "outputs": [
    {
     "data": {
      "text/html": [
       "<table>\n",
       "<caption>A data.frame: 6 × 3</caption>\n",
       "<thead>\n",
       "\t<tr><th></th><th scope=col>person_id</th><th scope=col>gender_concept_id</th><th scope=col>year_of_birth</th></tr>\n",
       "\t<tr><th></th><th scope=col>&lt;int64&gt;</th><th scope=col>&lt;int&gt;</th><th scope=col>&lt;int&gt;</th></tr>\n",
       "</thead>\n",
       "<tbody>\n",
       "\t<tr><th scope=row>1</th><td>112576831</td><td>2</td><td>1957</td></tr>\n",
       "\t<tr><th scope=row>2</th><td>310848228</td><td>1</td><td>1984</td></tr>\n",
       "\t<tr><th scope=row>3</th><td>310861266</td><td>1</td><td>1986</td></tr>\n",
       "\t<tr><th scope=row>4</th><td>407936427</td><td>1</td><td>1993</td></tr>\n",
       "\t<tr><th scope=row>5</th><td>705633812</td><td>2</td><td>1963</td></tr>\n",
       "\t<tr><th scope=row>6</th><td>710156592</td><td>2</td><td>1915</td></tr>\n",
       "</tbody>\n",
       "</table>\n"
      ],
      "text/latex": [
       "A data.frame: 6 × 3\n",
       "\\begin{tabular}{r|lll}\n",
       "  & person\\_id & gender\\_concept\\_id & year\\_of\\_birth\\\\\n",
       "  & <int64> & <int> & <int>\\\\\n",
       "\\hline\n",
       "\t1 & 112576831 & 2 & 1957\\\\\n",
       "\t2 & 310848228 & 1 & 1984\\\\\n",
       "\t3 & 310861266 & 1 & 1986\\\\\n",
       "\t4 & 407936427 & 1 & 1993\\\\\n",
       "\t5 & 705633812 & 2 & 1963\\\\\n",
       "\t6 & 710156592 & 2 & 1915\\\\\n",
       "\\end{tabular}\n"
      ],
      "text/markdown": [
       "\n",
       "A data.frame: 6 × 3\n",
       "\n",
       "| <!--/--> | person_id &lt;int64&gt; | gender_concept_id &lt;int&gt; | year_of_birth &lt;int&gt; |\n",
       "|---|---|---|---|\n",
       "| 1 | 112576831 | 2 | 1957 |\n",
       "| 2 | 310848228 | 1 | 1984 |\n",
       "| 3 | 310861266 | 1 | 1986 |\n",
       "| 4 | 407936427 | 1 | 1993 |\n",
       "| 5 | 705633812 | 2 | 1963 |\n",
       "| 6 | 710156592 | 2 | 1915 |\n",
       "\n"
      ],
      "text/plain": [
       "  person_id gender_concept_id year_of_birth\n",
       "1 112576831 2                 1957         \n",
       "2 310848228 1                 1984         \n",
       "3 310861266 1                 1986         \n",
       "4 407936427 1                 1993         \n",
       "5 705633812 2                 1963         \n",
       "6 710156592 2                 1915         "
      ]
     },
     "metadata": {},
     "output_type": "display_data"
    }
   ],
   "source": [
    "# quiz - e.g. retrieve the patients with acute myocardial infarction\n",
    "# I21\n",
    "quiz_condition1 <- \"SELECT person.person_id, person.gender_concept_id, person.year_of_birth\n",
    "                  FROM person, condition_occurrence, concept\n",
    "                  WHERE person.person_id = condition_occurrence.person_id\n",
    "                  AND condition_occurrence.condition_concept_id = concept.concept_id\n",
    "                  AND concept.concept_name ~ '^I21.*'\"\n",
    "patient_quiz1 <- dbGetQuery(con,quiz_condition1)\n",
    "head(patient_quiz1)"
   ]
  },
  {
   "cell_type": "markdown",
   "metadata": {},
   "source": [
    "We provide a more comprehensive query with replacing the concept id of gender by their concept names (female and male)."
   ]
  },
  {
   "cell_type": "code",
   "execution_count": 8,
   "metadata": {},
   "outputs": [
    {
     "data": {
      "text/html": [
       "<table>\n",
       "<caption>A data.frame: 6 × 3</caption>\n",
       "<thead>\n",
       "\t<tr><th></th><th scope=col>person_id</th><th scope=col>year_of_birth</th><th scope=col>concept_name</th></tr>\n",
       "\t<tr><th></th><th scope=col>&lt;int64&gt;</th><th scope=col>&lt;int&gt;</th><th scope=col>&lt;chr&gt;</th></tr>\n",
       "</thead>\n",
       "<tbody>\n",
       "\t<tr><th scope=row>1</th><td>1810841405</td><td>1984</td><td>male  </td></tr>\n",
       "\t<tr><th scope=row>2</th><td>2705312717</td><td>1931</td><td>female</td></tr>\n",
       "\t<tr><th scope=row>3</th><td> 108101128</td><td>2010</td><td>male  </td></tr>\n",
       "\t<tr><th scope=row>4</th><td> 212257965</td><td>1925</td><td>male  </td></tr>\n",
       "\t<tr><th scope=row>5</th><td> 312245854</td><td>1924</td><td>female</td></tr>\n",
       "\t<tr><th scope=row>6</th><td> 407368314</td><td>1936</td><td>female</td></tr>\n",
       "</tbody>\n",
       "</table>\n"
      ],
      "text/latex": [
       "A data.frame: 6 × 3\n",
       "\\begin{tabular}{r|lll}\n",
       "  & person\\_id & year\\_of\\_birth & concept\\_name\\\\\n",
       "  & <int64> & <int> & <chr>\\\\\n",
       "\\hline\n",
       "\t1 & 1810841405 & 1984 & male  \\\\\n",
       "\t2 & 2705312717 & 1931 & female\\\\\n",
       "\t3 &  108101128 & 2010 & male  \\\\\n",
       "\t4 &  212257965 & 1925 & male  \\\\\n",
       "\t5 &  312245854 & 1924 & female\\\\\n",
       "\t6 &  407368314 & 1936 & female\\\\\n",
       "\\end{tabular}\n"
      ],
      "text/markdown": [
       "\n",
       "A data.frame: 6 × 3\n",
       "\n",
       "| <!--/--> | person_id &lt;int64&gt; | year_of_birth &lt;int&gt; | concept_name &lt;chr&gt; |\n",
       "|---|---|---|---|\n",
       "| 1 | 1810841405 | 1984 | male   |\n",
       "| 2 | 2705312717 | 1931 | female |\n",
       "| 3 |  108101128 | 2010 | male   |\n",
       "| 4 |  212257965 | 1925 | male   |\n",
       "| 5 |  312245854 | 1924 | female |\n",
       "| 6 |  407368314 | 1936 | female |\n",
       "\n"
      ],
      "text/plain": [
       "  person_id  year_of_birth concept_name\n",
       "1 1810841405 1984          male        \n",
       "2 2705312717 1931          female      \n",
       "3  108101128 2010          male        \n",
       "4  212257965 1925          male        \n",
       "5  312245854 1924          female      \n",
       "6  407368314 1936          female      "
      ]
     },
     "metadata": {},
     "output_type": "display_data"
    }
   ],
   "source": [
    "# the query with replacing the gender with characters:male/female\n",
    "test2 <- \"WITH person2 AS (SELECT person.person_id, concept.concept_name, person.year_of_birth\n",
    "        FROM person INNER JOIN concept ON person.gender_concept_id = concept.concept_id)\n",
    "        SELECT person2.person_id, person2.year_of_birth, person2.concept_name\n",
    "        FROM person2, condition_occurrence, concept\n",
    "        WHERE person2.person_id = condition_occurrence.person_id                  \n",
    "        AND condition_occurrence.condition_concept_id = concept.concept_id\n",
    "        AND concept.concept_name ~ '^E11.*'\"\n",
    "\n",
    "\n",
    "# store the query results in a data frame called patient_diabetes1\n",
    "patient_diabetes1 <- dbGetQuery(con,test2)\n",
    "head(patient_diabetes1)"
   ]
  },
  {
   "cell_type": "markdown",
   "metadata": {},
   "source": [
    "## Visualisation of the demographic data in retrieved patients with type 2 diabetes based on diagnoses"
   ]
  },
  {
   "cell_type": "code",
   "execution_count": 9,
   "metadata": {},
   "outputs": [
    {
     "data": {
      "text/html": [
       "<table>\n",
       "<caption>A data.frame: 6 × 3</caption>\n",
       "<thead>\n",
       "\t<tr><th></th><th scope=col>person_id</th><th scope=col>year_of_birth</th><th scope=col>concept_name</th></tr>\n",
       "\t<tr><th></th><th scope=col>&lt;int64&gt;</th><th scope=col>&lt;int&gt;</th><th scope=col>&lt;chr&gt;</th></tr>\n",
       "</thead>\n",
       "<tbody>\n",
       "\t<tr><th scope=row>1</th><td>1810841405</td><td>1984</td><td>male  </td></tr>\n",
       "\t<tr><th scope=row>2</th><td>2705312717</td><td>1931</td><td>female</td></tr>\n",
       "\t<tr><th scope=row>3</th><td> 108101128</td><td>2010</td><td>male  </td></tr>\n",
       "\t<tr><th scope=row>4</th><td> 212257965</td><td>1925</td><td>male  </td></tr>\n",
       "\t<tr><th scope=row>5</th><td> 312245854</td><td>1924</td><td>female</td></tr>\n",
       "\t<tr><th scope=row>6</th><td> 407368314</td><td>1936</td><td>female</td></tr>\n",
       "</tbody>\n",
       "</table>\n"
      ],
      "text/latex": [
       "A data.frame: 6 × 3\n",
       "\\begin{tabular}{r|lll}\n",
       "  & person\\_id & year\\_of\\_birth & concept\\_name\\\\\n",
       "  & <int64> & <int> & <chr>\\\\\n",
       "\\hline\n",
       "\t1 & 1810841405 & 1984 & male  \\\\\n",
       "\t2 & 2705312717 & 1931 & female\\\\\n",
       "\t3 &  108101128 & 2010 & male  \\\\\n",
       "\t4 &  212257965 & 1925 & male  \\\\\n",
       "\t5 &  312245854 & 1924 & female\\\\\n",
       "\t6 &  407368314 & 1936 & female\\\\\n",
       "\\end{tabular}\n"
      ],
      "text/markdown": [
       "\n",
       "A data.frame: 6 × 3\n",
       "\n",
       "| <!--/--> | person_id &lt;int64&gt; | year_of_birth &lt;int&gt; | concept_name &lt;chr&gt; |\n",
       "|---|---|---|---|\n",
       "| 1 | 1810841405 | 1984 | male   |\n",
       "| 2 | 2705312717 | 1931 | female |\n",
       "| 3 |  108101128 | 2010 | male   |\n",
       "| 4 |  212257965 | 1925 | male   |\n",
       "| 5 |  312245854 | 1924 | female |\n",
       "| 6 |  407368314 | 1936 | female |\n",
       "\n"
      ],
      "text/plain": [
       "  person_id  year_of_birth concept_name\n",
       "1 1810841405 1984          male        \n",
       "2 2705312717 1931          female      \n",
       "3  108101128 2010          male        \n",
       "4  212257965 1925          male        \n",
       "5  312245854 1924          female      \n",
       "6  407368314 1936          female      "
      ]
     },
     "metadata": {},
     "output_type": "display_data"
    },
    {
     "name": "stdout",
     "output_type": "stream",
     "text": [
      "'data.frame':\t73 obs. of  3 variables:\n",
      " $ person_id    :integer64 1810841405 2705312717 108101128 212257965 312245854 407368314 409322116 410704717 ... \n",
      " $ year_of_birth: int  1984 1931 2010 1925 1924 1936 1932 1970 1958 1990 ...\n",
      " $ concept_name : chr  \"male\" \"female\" \"male\" \"male\" ...\n"
     ]
    },
    {
     "data": {
      "text/html": [
       "<style>\n",
       ".list-inline {list-style: none; margin:0; padding: 0}\n",
       ".list-inline>li {display: inline-block}\n",
       ".list-inline>li:not(:last-child)::after {content: \"\\00b7\"; padding: 0 .5ex}\n",
       "</style>\n",
       "<ol class=list-inline><li>'person_id'</li><li>'year_of_birth'</li><li>'concept_name'</li></ol>\n"
      ],
      "text/latex": [
       "\\begin{enumerate*}\n",
       "\\item 'person\\_id'\n",
       "\\item 'year\\_of\\_birth'\n",
       "\\item 'concept\\_name'\n",
       "\\end{enumerate*}\n"
      ],
      "text/markdown": [
       "1. 'person_id'\n",
       "2. 'year_of_birth'\n",
       "3. 'concept_name'\n",
       "\n",
       "\n"
      ],
      "text/plain": [
       "[1] \"person_id\"     \"year_of_birth\" \"concept_name\" "
      ]
     },
     "metadata": {},
     "output_type": "display_data"
    }
   ],
   "source": [
    "# get a sense of the data\n",
    "head(patient_diabetes1)\n",
    "str(patient_diabetes1)\n",
    "names(patient_diabetes1)"
   ]
  },
  {
   "cell_type": "markdown",
   "metadata": {},
   "source": [
    "### Make a histogram with Basic R\n",
    "R provides `hist()` function that allow us to compute a histogram of the given data.\n",
    "\n",
    "Here is an example of using basic R commands to generate a histogram of year of birth in patients with type 2 diabetes based on their diagnoses."
   ]
  },
  {
   "cell_type": "code",
   "execution_count": 10,
   "metadata": {},
   "outputs": [
    {
     "data": {
      "image/png": "[encoded data removed]",
      "text/plain": [
       "Plot with title “Histogram of year of birth in patients with type 2 diabetes”"
      ]
     },
     "metadata": {
      "image/png": {
       "height": 420,
       "width": 420
      }
     },
     "output_type": "display_data"
    }
   ],
   "source": [
    "# basic histogram of year of birth\n",
    "hist(patient_diabetes1$year_of_birth,\n",
    "     breaks = 5,\n",
    "     main = \"Histogram of year of birth in patients with type 2 diabetes\",\n",
    "     xlab = \"Year of birth\")"
   ]
  },
  {
   "cell_type": "markdown",
   "metadata": {},
   "source": [
    "### Make a histogram with `ggplot2`\n",
    "In addition to R basic commands, you can also make histograms by using `ggplot2`, which is a commonly used data visualisation package for R. We already have `ggplot2` installed here. So please just load the package before using their functions.\n",
    "Here we provide an example of generating a histogram with `ggplot2`."
   ]
  },
  {
   "cell_type": "code",
   "execution_count": 15,
   "metadata": {},
   "outputs": [
    {
     "data": {
      "image/png": "[encoded data removed]",
      "text/plain": [
       "plot without title"
      ]
     },
     "metadata": {
      "image/png": {
       "height": 420,
       "width": 420
      }
     },
     "output_type": "display_data"
    }
   ],
   "source": [
    "# using ggplot2\n",
    "library(ggplot2)\n",
    "\n",
    "ggplot(patient_diabetes1,aes(x=year_of_birth)) + \n",
    "  geom_histogram(binwidth = 10, fill=\"#69b3a2\", color=\"#e9ecef\", alpha=0.9)"
   ]
  },
  {
   "cell_type": "markdown",
   "metadata": {},
   "source": [
    "### Generating a histogram by group\n",
    "An example of generating a histogram of year of birth by grouping the patients based on their gender."
   ]
  },
  {
   "cell_type": "code",
   "execution_count": 19,
   "metadata": {},
   "outputs": [
    {
     "data": {
      "image/png": "[encoded data removed]",
      "text/plain": [
       "plot without title"
      ]
     },
     "metadata": {
      "image/png": {
       "height": 420,
       "width": 420
      }
     },
     "output_type": "display_data"
    }
   ],
   "source": [
    "# histogram of year of birth with two gender groups\n",
    "ggplot(patient_diabetes1, aes(x = year_of_birth)) +\n",
    "    geom_histogram(aes(color = concept_name, fill = concept_name),\n",
    "                  position = \"identity\", bins = 10, alpha = 0.4) +\n",
    "    scale_color_manual(values = c(\"#00AFBB\", \"#E7B800\")) +\n",
    "    scale_fill_manual(values = c(\"#00AFBB\", \"#E7B800\"))"
   ]
  },
  {
   "cell_type": "markdown",
   "metadata": {},
   "source": [
    "### Making bar chart and pie chart with Basic R\n",
    "Examples of generating bar chart and pie chart with R basic commands for visualising the gender distribution in this patient group."
   ]
  },
  {
   "cell_type": "code",
   "execution_count": 11,
   "metadata": {},
   "outputs": [
    {
     "data": {
      "image/png": "[encoded data removed]",
      "text/plain": [
       "Plot with title “Gender distribution”"
      ]
     },
     "metadata": {
      "image/png": {
       "height": 420,
       "width": 420
      }
     },
     "output_type": "display_data"
    },
    {
     "data": {
      "image/png": "[encoded data removed]",
      "text/plain": [
       "Plot with title “Pie chart of gender”"
      ]
     },
     "metadata": {
      "image/png": {
       "height": 420,
       "width": 420
      }
     },
     "output_type": "display_data"
    }
   ],
   "source": [
    "# visualise the gender distribution\n",
    "freq <- table(patient_diabetes1$concept_name)\n",
    "barplot(freq,\n",
    "       main = \"Gender distribution\",\n",
    "       xlab = \"Gender\")\n",
    "pie(freq, main = \"Pie chart of gender\")"
   ]
  },
  {
   "cell_type": "markdown",
   "metadata": {},
   "source": [
    "## Retrieve the patients based on test results\n",
    "\n",
    "For example, we want to find all the patients with at least one HBA1C result value higher or equal to 7. The three tables we need for this query are person, concept, and measurement tables."
   ]
  },
  {
   "cell_type": "code",
   "execution_count": 13,
   "metadata": {},
   "outputs": [
    {
     "data": {
      "text/html": [
       "<table>\n",
       "<caption>A data.frame: 6 × 4</caption>\n",
       "<thead>\n",
       "\t<tr><th></th><th scope=col>person_id</th><th scope=col>year_of_birth</th><th scope=col>value_as_number</th><th scope=col>unit_source_value</th></tr>\n",
       "\t<tr><th></th><th scope=col>&lt;int64&gt;</th><th scope=col>&lt;int&gt;</th><th scope=col>&lt;dbl&gt;</th><th scope=col>&lt;chr&gt;</th></tr>\n",
       "</thead>\n",
       "<tbody>\n",
       "\t<tr><th scope=row>1</th><td> 407834118</td><td>1983</td><td>7.344608</td><td>NULL</td></tr>\n",
       "\t<tr><th scope=row>2</th><td> 608472726</td><td>1947</td><td>8.816821</td><td>NULL</td></tr>\n",
       "\t<tr><th scope=row>3</th><td>1307587481</td><td>1958</td><td>8.420652</td><td>NULL</td></tr>\n",
       "\t<tr><th scope=row>4</th><td>1712519295</td><td>1951</td><td>8.958857</td><td>NULL</td></tr>\n",
       "\t<tr><th scope=row>5</th><td>1810262820</td><td>1926</td><td>8.655646</td><td>NULL</td></tr>\n",
       "\t<tr><th scope=row>6</th><td>2004278627</td><td>1927</td><td>8.947153</td><td>NULL</td></tr>\n",
       "</tbody>\n",
       "</table>\n"
      ],
      "text/latex": [
       "A data.frame: 6 × 4\n",
       "\\begin{tabular}{r|llll}\n",
       "  & person\\_id & year\\_of\\_birth & value\\_as\\_number & unit\\_source\\_value\\\\\n",
       "  & <int64> & <int> & <dbl> & <chr>\\\\\n",
       "\\hline\n",
       "\t1 &  407834118 & 1983 & 7.344608 & NULL\\\\\n",
       "\t2 &  608472726 & 1947 & 8.816821 & NULL\\\\\n",
       "\t3 & 1307587481 & 1958 & 8.420652 & NULL\\\\\n",
       "\t4 & 1712519295 & 1951 & 8.958857 & NULL\\\\\n",
       "\t5 & 1810262820 & 1926 & 8.655646 & NULL\\\\\n",
       "\t6 & 2004278627 & 1927 & 8.947153 & NULL\\\\\n",
       "\\end{tabular}\n"
      ],
      "text/markdown": [
       "\n",
       "A data.frame: 6 × 4\n",
       "\n",
       "| <!--/--> | person_id &lt;int64&gt; | year_of_birth &lt;int&gt; | value_as_number &lt;dbl&gt; | unit_source_value &lt;chr&gt; |\n",
       "|---|---|---|---|---|\n",
       "| 1 |  407834118 | 1983 | 7.344608 | NULL |\n",
       "| 2 |  608472726 | 1947 | 8.816821 | NULL |\n",
       "| 3 | 1307587481 | 1958 | 8.420652 | NULL |\n",
       "| 4 | 1712519295 | 1951 | 8.958857 | NULL |\n",
       "| 5 | 1810262820 | 1926 | 8.655646 | NULL |\n",
       "| 6 | 2004278627 | 1927 | 8.947153 | NULL |\n",
       "\n"
      ],
      "text/plain": [
       "  person_id  year_of_birth value_as_number unit_source_value\n",
       "1  407834118 1983          7.344608        NULL             \n",
       "2  608472726 1947          8.816821        NULL             \n",
       "3 1307587481 1958          8.420652        NULL             \n",
       "4 1712519295 1951          8.958857        NULL             \n",
       "5 1810262820 1926          8.655646        NULL             \n",
       "6 2004278627 1927          8.947153        NULL             "
      ]
     },
     "metadata": {},
     "output_type": "display_data"
    }
   ],
   "source": [
    "diabetes_lab <- \"SELECT person.person_id, person.year_of_birth, measurement.value_as_number, measurement.unit_source_value\n",
    "                  FROM person, measurement, concept\n",
    "                  WHERE person.person_id = measurement.person_id\n",
    "                  AND measurement.measurement_concept_id = concept.concept_id\n",
    "                  AND concept.concept_name = 'HBA1C'\n",
    "                  AND measurement.value_as_number >= 7\"\n",
    "# AND unit_source_value\n",
    "\n",
    "patient_diabetes2 <- dbGetQuery(con, diabetes_lab)\n",
    "head(patient_diabetes2)"
   ]
  },
  {
   "cell_type": "code",
   "execution_count": 17,
   "metadata": {},
   "outputs": [
    {
     "data": {
      "image/png": "[encoded data removed]",
      "text/plain": [
       "Plot with title “Histogram of year of birth in patients with type 2 diabetes”"
      ]
     },
     "metadata": {
      "image/png": {
       "height": 420,
       "width": 420
      }
     },
     "output_type": "display_data"
    },
    {
     "data": {
      "image/png": "[encoded data removed]",
      "text/plain": [
       "plot without title"
      ]
     },
     "metadata": {
      "image/png": {
       "height": 420,
       "width": 420
      }
     },
     "output_type": "display_data"
    }
   ],
   "source": [
    "# quiz - a histogram of year of birth in this group of patients?\n",
    "hist(patient_diabetes2$year_of_birth,\n",
    "     breaks = 5,\n",
    "     main = \"Histogram of year of birth in patients with type 2 diabetes\",\n",
    "     xlab = \"Year of birth\")\n",
    "\n",
    "ggplot(patient_diabetes2,aes(x=year_of_birth)) + \n",
    "  geom_histogram(binwidth = 20, fill=\"#69b3a2\", color=\"#e9ecef\", alpha=0.9)"
   ]
  },
  {
   "cell_type": "markdown",
   "metadata": {},
   "source": [
    "## Quiz - Retrieve the patients based on drug exposure\n",
    "Can you retrieve the patients that have been prescribed with a specific drug? For example, the concept name of this specific drug is 20030800060. "
   ]
  },
  {
   "cell_type": "code",
   "execution_count": 15,
   "metadata": {},
   "outputs": [
    {
     "data": {
      "text/html": [
       "<table>\n",
       "<caption>A data.frame: 3 × 1</caption>\n",
       "<thead>\n",
       "\t<tr><th scope=col>person_id</th></tr>\n",
       "\t<tr><th scope=col>&lt;int64&gt;</th></tr>\n",
       "</thead>\n",
       "<tbody>\n",
       "\t<tr><td>2709858218</td></tr>\n",
       "\t<tr><td> 306805213</td></tr>\n",
       "\t<tr><td>2108353910</td></tr>\n",
       "</tbody>\n",
       "</table>\n"
      ],
      "text/latex": [
       "A data.frame: 3 × 1\n",
       "\\begin{tabular}{l}\n",
       " person\\_id\\\\\n",
       " <int64>\\\\\n",
       "\\hline\n",
       "\t 2709858218\\\\\n",
       "\t  306805213\\\\\n",
       "\t 2108353910\\\\\n",
       "\\end{tabular}\n"
      ],
      "text/markdown": [
       "\n",
       "A data.frame: 3 × 1\n",
       "\n",
       "| person_id &lt;int64&gt; |\n",
       "|---|\n",
       "| 2709858218 |\n",
       "|  306805213 |\n",
       "| 2108353910 |\n",
       "\n"
      ],
      "text/plain": [
       "  person_id \n",
       "1 2709858218\n",
       "2  306805213\n",
       "3 2108353910"
      ]
     },
     "metadata": {},
     "output_type": "display_data"
    }
   ],
   "source": [
    "diabetes_drug <- \"SELECT person.person_id\n",
    "                  FROM person, drug_exposure, concept\n",
    "                  WHERE person.person_id = drug_exposure.person_id\n",
    "                  AND drug_exposure.drug_concept_id = concept.concept_id\n",
    "                  AND concept.concept_name = '20030800060'\"\n",
    "# need to edit drug code\n",
    "\n",
    "dbGetQuery(con, diabetes_drug)\n"
   ]
  }
 ],
 "metadata": {
  "kernelspec": {
   "display_name": "R",
   "language": "R",
   "name": "ir"
  },
  "language_info": {
   "codemirror_mode": "r",
   "file_extension": ".r",
   "mimetype": "text/x-r-source",
   "name": "R",
   "pygments_lexer": "r",
   "version": "4.0.3"
  }
 },
 "nbformat": 4,
 "nbformat_minor": 5
}
