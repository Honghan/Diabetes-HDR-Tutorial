{
 "cells": [
  {
   "cell_type": "markdown",
   "metadata": {},
   "source": [
    "# Health Data Science for Diabetes Tutorial\n",
    "- Tutors: Minhong Wang, Honghan Wu, Debbie Wake\n",
    "- University of Edinburgh\n",
    "- March 2021\n",
    "\n",
    "## Summary\n",
    "This tutorial illustrates the streamlined pipeline of applying health data science on routine data for research.\n",
    "\n",
    "## Table of Content\n",
    "1. Data model mapping and preprocessing\n",
    "    - Common Data Model\n",
    "    - Standadised Terminology\n",
    "2. Phenotype Computation\n",
    "    - Type 2 Diabetes by Diagnosis\n",
    "    - Type 2 Diabetes by Medication\n",
    "    - Drug episodes\n",
    "3. Exploratory Data Analysis\n",
    "    - dataframe basics\n",
    "    - exploration and visualisation\n",
    "    - outlier detection and removal\n",
    "    - imputation\n",
    "4. Risk Prediction\n",
    "    - Cox model for CVD risk prediction"
   ]
  },
  {
   "cell_type": "markdown",
   "metadata": {},
   "source": [
    "## 1. Data model mapping and preprocessing\n",
    "Why do we need common data model?"
   ]
  },
  {
   "cell_type": "markdown",
   "metadata": {},
   "source": [
    "![Why Common Data Model](https://www.ohdsi.org/wp-content/uploads/2014/07/Why-CDM.png \"schematic diagram of CDM\")"
   ]
  },
  {
   "cell_type": "markdown",
   "metadata": {},
   "source": [
    "## Our data tables\n",
    "- `Demography.csv` - demography table about patient basic information such as age, gender etc. \n",
    "- `Biochemistry.csv` - laboratory test results including test code, result values, units etc.\n",
    "- `Prescribing.csv` - drug prescriptions including drug names, drug codes, dosage, prescription time etc.\n",
    "- `HospitalAdmissions.csv` -  hospital admissions including admission date, discharge date, diagnosis etc."
   ]
  },
  {
   "cell_type": "markdown",
   "metadata": {},
   "source": [
    "### R packages\n",
    "An R package is an extension of R containing data sets and specific functions to solve specific questions. In addition to many base packages, there are thousands of other R packages available for download and installation. For first time using these packages, we need to install these packages and also load the packages for using the functions in the packages.\n",
    "\n",
    "All the packages we use for this tutorial are already installed. So we only need to load the packages here."
   ]
  },
  {
   "cell_type": "code",
   "execution_count": 15,
   "metadata": {},
   "outputs": [],
   "source": [
    "#install.packages(\"tidyverse\")\n",
    "#install.packages(\"dplyr\")\n",
    "#install.packages(\"lubridate\")\n",
    "#install.packages(\"chron\")\n",
    "library(tidyverse)\n",
    "library(dplyr)\n",
    "library(lubridate) # date convert\n",
    "library(chron) # datetime"
   ]
  },
  {
   "cell_type": "markdown",
   "metadata": {},
   "source": [
    "### Working directory\n",
    "The working directory is a folder where R reads and saves files. Here, we set our working directory to the folder called `data`."
   ]
  },
  {
   "cell_type": "code",
   "execution_count": 17,
   "metadata": {},
   "outputs": [
    {
     "ename": "ERROR",
     "evalue": "Error in setwd(\"./data\"): cannot change working directory\n",
     "output_type": "error",
     "traceback": [
      "Error in setwd(\"./data\"): cannot change working directory\nTraceback:\n",
      "1. setwd(\"./data\")"
     ]
    }
   ],
   "source": [
    "# set working directory\n",
    "setwd(\"./data\")"
   ]
  },
  {
   "cell_type": "markdown",
   "metadata": {},
   "source": [
    "## 1.1 Map patient demographic information to CDM Person table\n",
    "Suppose our own demographic table is called `Demography` and we have extracted the table as a `CSV`file. "
   ]
  },
  {
   "cell_type": "code",
   "execution_count": 18,
   "metadata": {},
   "outputs": [
    {
     "data": {
      "text/html": [
       "<table>\n",
       "<caption>A data.frame: 6 × 39</caption>\n",
       "<thead>\n",
       "\t<tr><th></th><th scope=col>chi</th><th scope=col>dtCreated</th><th scope=col>current_record</th><th scope=col>notes</th><th scope=col>chi_num_of_curr_record</th><th scope=col>chi_status</th><th scope=col>century</th><th scope=col>surname</th><th scope=col>forename</th><th scope=col>sex</th><th scope=col>⋯</th><th scope=col>previous_postcode</th><th scope=col>date_address_changed</th><th scope=col>adr</th><th scope=col>current_gp_accept_date</th><th scope=col>previous_gp</th><th scope=col>previous_gp_accept_date</th><th scope=col>date_into_practice</th><th scope=col>date_of_birth</th><th scope=col>patient_triage_score</th><th scope=col>hic_dataLoadRunID</th></tr>\n",
       "\t<tr><th></th><th scope=col>&lt;dbl&gt;</th><th scope=col>&lt;chr&gt;</th><th scope=col>&lt;chr&gt;</th><th scope=col>&lt;chr&gt;</th><th scope=col>&lt;dbl&gt;</th><th scope=col>&lt;chr&gt;</th><th scope=col>&lt;int&gt;</th><th scope=col>&lt;chr&gt;</th><th scope=col>&lt;chr&gt;</th><th scope=col>&lt;chr&gt;</th><th scope=col>⋯</th><th scope=col>&lt;chr&gt;</th><th scope=col>&lt;chr&gt;</th><th scope=col>&lt;lgl&gt;</th><th scope=col>&lt;chr&gt;</th><th scope=col>&lt;chr&gt;</th><th scope=col>&lt;chr&gt;</th><th scope=col>&lt;chr&gt;</th><th scope=col>&lt;chr&gt;</th><th scope=col>&lt;dbl&gt;</th><th scope=col>&lt;int&gt;</th></tr>\n",
       "</thead>\n",
       "<tbody>\n",
       "\t<tr><th scope=row>1</th><td>2807076911</td><td>17/02/2008 05:20:23</td><td>False</td><td>Random record</td><td>NA</td><td>L</td><td>20</td><td>Bell    </td><td>MATILDA     </td><td>F</td><td>⋯</td><td>       </td><td>                   </td><td>NA</td><td>03/12/2010 23:12:02</td><td>Z972</td><td>14/08/2012 12:47:50</td><td>16/01/2008 16:48:38</td><td>28/07/2007 08:21:03</td><td>8.70</td><td>11</td></tr>\n",
       "\t<tr><th scope=row>2</th><td>2108353910</td><td>14/04/1961 15:57:17</td><td>True </td><td>Random record</td><td>NA</td><td>L</td><td>19</td><td>Griffith</td><td>ELLA        </td><td>F</td><td>⋯</td><td>       </td><td>                   </td><td>NA</td><td>09/05/1984 10:34:23</td><td>    </td><td>                   </td><td>04/08/1947 02:40:41</td><td>21/08/1935 09:44:39</td><td>0.61</td><td> 7</td></tr>\n",
       "\t<tr><th scope=row>3</th><td>1206409032</td><td>14/09/2003 16:21:15</td><td>True </td><td>Random record</td><td>NA</td><td> </td><td>19</td><td>Murphy  </td><td>JASMINE     </td><td>F</td><td>⋯</td><td>       </td><td>                   </td><td>NA</td><td>19/04/2010 02:54:52</td><td>    </td><td>                   </td><td>21/03/1955 07:37:45</td><td>12/06/1940 14:46:45</td><td>9.00</td><td>11</td></tr>\n",
       "\t<tr><th scope=row>4</th><td> 103806118</td><td>31/01/1982 05:49:30</td><td>False</td><td>Random record</td><td>NA</td><td>C</td><td>19</td><td>        </td><td>MARYAM Ellis</td><td>F</td><td>⋯</td><td>       </td><td>                   </td><td>NA</td><td>18/12/1998 12:04:36</td><td>    </td><td>                   </td><td>09/05/1980 20:29:09</td><td>01/03/1980 03:08:43</td><td>0.88</td><td> 9</td></tr>\n",
       "\t<tr><th scope=row>5</th><td>1503028811</td><td>30/08/2017 20:00:49</td><td>False</td><td>Random record</td><td>NA</td><td>R</td><td>20</td><td>Bennett </td><td>SOFIA       </td><td>F</td><td>⋯</td><td>       </td><td>                   </td><td>NA</td><td>30/11/2013 13:44:07</td><td>    </td><td>                   </td><td>02/11/2007 11:53:23</td><td>15/03/2002 21:08:33</td><td>0.10</td><td>12</td></tr>\n",
       "\t<tr><th scope=row>6</th><td>1001408588</td><td>24/10/2016 00:21:03</td><td>True </td><td>Random record</td><td>NA</td><td> </td><td>19</td><td>Richards</td><td>TYLER       </td><td>M</td><td>⋯</td><td>DD9 7JB</td><td>22/04/1945 22:52:25</td><td>NA</td><td>01/08/2012 05:41:19</td><td>P528</td><td>01/03/2019 13:01:19</td><td>13/01/1959 11:39:13</td><td>10/01/1940 15:29:35</td><td>7.40</td><td>12</td></tr>\n",
       "</tbody>\n",
       "</table>\n"
      ],
      "text/latex": [
       "A data.frame: 6 × 39\n",
       "\\begin{tabular}{r|lllllllllllllllllllll}\n",
       "  & chi & dtCreated & current\\_record & notes & chi\\_num\\_of\\_curr\\_record & chi\\_status & century & surname & forename & sex & ⋯ & previous\\_postcode & date\\_address\\_changed & adr & current\\_gp\\_accept\\_date & previous\\_gp & previous\\_gp\\_accept\\_date & date\\_into\\_practice & date\\_of\\_birth & patient\\_triage\\_score & hic\\_dataLoadRunID\\\\\n",
       "  & <dbl> & <chr> & <chr> & <chr> & <dbl> & <chr> & <int> & <chr> & <chr> & <chr> & ⋯ & <chr> & <chr> & <lgl> & <chr> & <chr> & <chr> & <chr> & <chr> & <dbl> & <int>\\\\\n",
       "\\hline\n",
       "\t1 & 2807076911 & 17/02/2008 05:20:23 & False & Random record & NA & L & 20 & Bell     & MATILDA      & F & ⋯ &         &                     & NA & 03/12/2010 23:12:02 & Z972 & 14/08/2012 12:47:50 & 16/01/2008 16:48:38 & 28/07/2007 08:21:03 & 8.70 & 11\\\\\n",
       "\t2 & 2108353910 & 14/04/1961 15:57:17 & True  & Random record & NA & L & 19 & Griffith & ELLA         & F & ⋯ &         &                     & NA & 09/05/1984 10:34:23 &      &                     & 04/08/1947 02:40:41 & 21/08/1935 09:44:39 & 0.61 &  7\\\\\n",
       "\t3 & 1206409032 & 14/09/2003 16:21:15 & True  & Random record & NA &   & 19 & Murphy   & JASMINE      & F & ⋯ &         &                     & NA & 19/04/2010 02:54:52 &      &                     & 21/03/1955 07:37:45 & 12/06/1940 14:46:45 & 9.00 & 11\\\\\n",
       "\t4 &  103806118 & 31/01/1982 05:49:30 & False & Random record & NA & C & 19 &          & MARYAM Ellis & F & ⋯ &         &                     & NA & 18/12/1998 12:04:36 &      &                     & 09/05/1980 20:29:09 & 01/03/1980 03:08:43 & 0.88 &  9\\\\\n",
       "\t5 & 1503028811 & 30/08/2017 20:00:49 & False & Random record & NA & R & 20 & Bennett  & SOFIA        & F & ⋯ &         &                     & NA & 30/11/2013 13:44:07 &      &                     & 02/11/2007 11:53:23 & 15/03/2002 21:08:33 & 0.10 & 12\\\\\n",
       "\t6 & 1001408588 & 24/10/2016 00:21:03 & True  & Random record & NA &   & 19 & Richards & TYLER        & M & ⋯ & DD9 7JB & 22/04/1945 22:52:25 & NA & 01/08/2012 05:41:19 & P528 & 01/03/2019 13:01:19 & 13/01/1959 11:39:13 & 10/01/1940 15:29:35 & 7.40 & 12\\\\\n",
       "\\end{tabular}\n"
      ],
      "text/markdown": [
       "\n",
       "A data.frame: 6 × 39\n",
       "\n",
       "| <!--/--> | chi &lt;dbl&gt; | dtCreated &lt;chr&gt; | current_record &lt;chr&gt; | notes &lt;chr&gt; | chi_num_of_curr_record &lt;dbl&gt; | chi_status &lt;chr&gt; | century &lt;int&gt; | surname &lt;chr&gt; | forename &lt;chr&gt; | sex &lt;chr&gt; | ⋯ ⋯ | previous_postcode &lt;chr&gt; | date_address_changed &lt;chr&gt; | adr &lt;lgl&gt; | current_gp_accept_date &lt;chr&gt; | previous_gp &lt;chr&gt; | previous_gp_accept_date &lt;chr&gt; | date_into_practice &lt;chr&gt; | date_of_birth &lt;chr&gt; | patient_triage_score &lt;dbl&gt; | hic_dataLoadRunID &lt;int&gt; |\n",
       "|---|---|---|---|---|---|---|---|---|---|---|---|---|---|---|---|---|---|---|---|---|---|\n",
       "| 1 | 2807076911 | 17/02/2008 05:20:23 | False | Random record | NA | L | 20 | Bell     | MATILDA      | F | ⋯ | <!----> | <!----> | NA | 03/12/2010 23:12:02 | Z972 | 14/08/2012 12:47:50 | 16/01/2008 16:48:38 | 28/07/2007 08:21:03 | 8.70 | 11 |\n",
       "| 2 | 2108353910 | 14/04/1961 15:57:17 | True  | Random record | NA | L | 19 | Griffith | ELLA         | F | ⋯ | <!----> | <!----> | NA | 09/05/1984 10:34:23 | <!----> | <!----> | 04/08/1947 02:40:41 | 21/08/1935 09:44:39 | 0.61 |  7 |\n",
       "| 3 | 1206409032 | 14/09/2003 16:21:15 | True  | Random record | NA | <!----> | 19 | Murphy   | JASMINE      | F | ⋯ | <!----> | <!----> | NA | 19/04/2010 02:54:52 | <!----> | <!----> | 21/03/1955 07:37:45 | 12/06/1940 14:46:45 | 9.00 | 11 |\n",
       "| 4 |  103806118 | 31/01/1982 05:49:30 | False | Random record | NA | C | 19 | <!----> | MARYAM Ellis | F | ⋯ | <!----> | <!----> | NA | 18/12/1998 12:04:36 | <!----> | <!----> | 09/05/1980 20:29:09 | 01/03/1980 03:08:43 | 0.88 |  9 |\n",
       "| 5 | 1503028811 | 30/08/2017 20:00:49 | False | Random record | NA | R | 20 | Bennett  | SOFIA        | F | ⋯ | <!----> | <!----> | NA | 30/11/2013 13:44:07 | <!----> | <!----> | 02/11/2007 11:53:23 | 15/03/2002 21:08:33 | 0.10 | 12 |\n",
       "| 6 | 1001408588 | 24/10/2016 00:21:03 | True  | Random record | NA | <!----> | 19 | Richards | TYLER        | M | ⋯ | DD9 7JB | 22/04/1945 22:52:25 | NA | 01/08/2012 05:41:19 | P528 | 01/03/2019 13:01:19 | 13/01/1959 11:39:13 | 10/01/1940 15:29:35 | 7.40 | 12 |\n",
       "\n"
      ],
      "text/plain": [
       "  chi        dtCreated           current_record notes        \n",
       "1 2807076911 17/02/2008 05:20:23 False          Random record\n",
       "2 2108353910 14/04/1961 15:57:17 True           Random record\n",
       "3 1206409032 14/09/2003 16:21:15 True           Random record\n",
       "4  103806118 31/01/1982 05:49:30 False          Random record\n",
       "5 1503028811 30/08/2017 20:00:49 False          Random record\n",
       "6 1001408588 24/10/2016 00:21:03 True           Random record\n",
       "  chi_num_of_curr_record chi_status century surname  forename     sex ⋯\n",
       "1 NA                     L          20      Bell     MATILDA      F   ⋯\n",
       "2 NA                     L          19      Griffith ELLA         F   ⋯\n",
       "3 NA                                19      Murphy   JASMINE      F   ⋯\n",
       "4 NA                     C          19               MARYAM Ellis F   ⋯\n",
       "5 NA                     R          20      Bennett  SOFIA        F   ⋯\n",
       "6 NA                                19      Richards TYLER        M   ⋯\n",
       "  previous_postcode date_address_changed adr current_gp_accept_date previous_gp\n",
       "1                                        NA  03/12/2010 23:12:02    Z972       \n",
       "2                                        NA  09/05/1984 10:34:23               \n",
       "3                                        NA  19/04/2010 02:54:52               \n",
       "4                                        NA  18/12/1998 12:04:36               \n",
       "5                                        NA  30/11/2013 13:44:07               \n",
       "6 DD9 7JB           22/04/1945 22:52:25  NA  01/08/2012 05:41:19    P528       \n",
       "  previous_gp_accept_date date_into_practice  date_of_birth      \n",
       "1 14/08/2012 12:47:50     16/01/2008 16:48:38 28/07/2007 08:21:03\n",
       "2                         04/08/1947 02:40:41 21/08/1935 09:44:39\n",
       "3                         21/03/1955 07:37:45 12/06/1940 14:46:45\n",
       "4                         09/05/1980 20:29:09 01/03/1980 03:08:43\n",
       "5                         02/11/2007 11:53:23 15/03/2002 21:08:33\n",
       "6 01/03/2019 13:01:19     13/01/1959 11:39:13 10/01/1940 15:29:35\n",
       "  patient_triage_score hic_dataLoadRunID\n",
       "1 8.70                 11               \n",
       "2 0.61                  7               \n",
       "3 9.00                 11               \n",
       "4 0.88                  9               \n",
       "5 0.10                 12               \n",
       "6 7.40                 12               "
      ]
     },
     "metadata": {},
     "output_type": "display_data"
    }
   ],
   "source": [
    "# read the csv file into R as a dataframe\n",
    "demography <- read.csv(\"Demography.csv\",header = TRUE, sep = \",\",stringsAsFactors = FALSE)\n",
    "head(demography)"
   ]
  },
  {
   "cell_type": "code",
   "execution_count": 19,
   "metadata": {},
   "outputs": [
    {
     "name": "stdout",
     "output_type": "stream",
     "text": [
      "'data.frame':\t10000 obs. of  39 variables:\n",
      " $ chi                    : num  2.81e+09 2.11e+09 1.21e+09 1.04e+08 1.50e+09 ...\n",
      " $ dtCreated              : chr  \"17/02/2008 05:20:23\" \"14/04/1961 15:57:17\" \"14/09/2003 16:21:15\" \"31/01/1982 05:49:30\" ...\n",
      " $ current_record         : chr  \"False\" \"True\" \"True\" \"False\" ...\n",
      " $ notes                  : chr  \"Random record\" \"Random record\" \"Random record\" \"Random record\" ...\n",
      " $ chi_num_of_curr_record : num  NA NA NA NA NA NA NA NA NA NA ...\n",
      " $ chi_status             : chr  \"L\" \"L\" \"\" \"C\" ...\n",
      " $ century                : int  20 19 19 19 20 19 19 20 19 19 ...\n",
      " $ surname                : chr  \"Bell\" \"Griffith\" \"Murphy\" \"\" ...\n",
      " $ forename               : chr  \"MATILDA\" \"ELLA\" \"JASMINE\" \"MARYAM Ellis\" ...\n",
      " $ sex                    : chr  \"F\" \"F\" \"F\" \"F\" ...\n",
      " $ current_address_L1     : chr  \"41 Brown Street\" \"12 Dudhope Terrace\" \"20 Viscount's Pend\" \"Ballindean Place\" ...\n",
      " $ current_address_L2     : chr  \"Coldside\" \"Montrose and District\" \"West End\" \"East End\" ...\n",
      " $ current_address_L3     : chr  \"Dundee City\" \"Angus\" \"Dundee City\" \"Dundee City\" ...\n",
      " $ current_address_L4     : chr  \"\" \"\" \"\" \"\" ...\n",
      " $ current_postcode       : chr  \"DD3 8QG\" \"DD10 9DA\" \"DD1 5YZ\" \"DD4 8PA\" ...\n",
      " $ date_of_death          : chr  \"\" \"\" \"\" \"\" ...\n",
      " $ source_death           : chr  \"\" \"\" \"\" \"\" ...\n",
      " $ area_residence         : chr  \"L\" \"C\" \"E\" \"T\" ...\n",
      " $ hb_extract             : chr  \"N\" \"V\" \"Q\" \"B\" ...\n",
      " $ current_gp             : chr  \"O502\" \"I561\" \"B925\" \"P543\" ...\n",
      " $ birth_surname          : chr  \"\" \"\" \"\" \"\" ...\n",
      " $ previous_surname       : chr  \"\" \"Reynolds\" \"\" \"Scott\" ...\n",
      " $ midname                : chr  \"\" \"SKYE\" \"MEGAN\" \"TILLY\" ...\n",
      " $ alt_forename           : chr  \"\" \"\" \"ELIZA\" \"SCARLETT\" ...\n",
      " $ other_initials         : chr  \"\" \"\" \"\" \"\" ...\n",
      " $ previous_address_L1    : chr  \"\" \"\" \"\" \"\" ...\n",
      " $ previous_address_L2    : chr  \"\" \"\" \"\" \"\" ...\n",
      " $ previous_address_L3    : chr  \"\" \"\" \"\" \"\" ...\n",
      " $ previous_address_L4    : chr  \"\" \"\" \"\" \"\" ...\n",
      " $ previous_postcode      : chr  \"\" \"\" \"\" \"\" ...\n",
      " $ date_address_changed   : chr  \"\" \"\" \"\" \"\" ...\n",
      " $ adr                    : logi  NA NA NA NA NA NA ...\n",
      " $ current_gp_accept_date : chr  \"03/12/2010 23:12:02\" \"09/05/1984 10:34:23\" \"19/04/2010 02:54:52\" \"18/12/1998 12:04:36\" ...\n",
      " $ previous_gp            : chr  \"Z972\" \"\" \"\" \"\" ...\n",
      " $ previous_gp_accept_date: chr  \"14/08/2012 12:47:50\" \"\" \"\" \"\" ...\n",
      " $ date_into_practice     : chr  \"16/01/2008 16:48:38\" \"04/08/1947 02:40:41\" \"21/03/1955 07:37:45\" \"09/05/1980 20:29:09\" ...\n",
      " $ date_of_birth          : chr  \"28/07/2007 08:21:03\" \"21/08/1935 09:44:39\" \"12/06/1940 14:46:45\" \"01/03/1980 03:08:43\" ...\n",
      " $ patient_triage_score   : num  8.7 0.61 9 0.88 0.1 7.4 43 35 88 0.22 ...\n",
      " $ hic_dataLoadRunID      : int  11 7 11 9 12 12 10 12 10 11 ...\n"
     ]
    }
   ],
   "source": [
    "# let's look at the column names and summary data\n",
    "str(demography)"
   ]
  },
  {
   "cell_type": "markdown",
   "metadata": {},
   "source": [
    "---\n",
    "### What is the equivilant in CDM?\n",
    "\n",
    "The `Person` table and other related tables"
   ]
  },
  {
   "cell_type": "markdown",
   "metadata": {},
   "source": [
    "![CDM Person related tables](https://www.ohdsi.org/web/wiki/lib/exe/fetch.php?w=800&tok=82724f&media=documentation:cdm:standard_health_system_data_tables.png \"CDM Person related tables\")"
   ]
  },
  {
   "cell_type": "markdown",
   "metadata": {},
   "source": [
    "### NB: Before anything, we need a `Concept` table in CDM"
   ]
  },
  {
   "cell_type": "code",
   "execution_count": 20,
   "metadata": {},
   "outputs": [],
   "source": [
    "# generate an empty concept table\n",
    "concept <- data.frame(concept_id = numeric(),\n",
    "                      concept_name = character(),\n",
    "                      domain_id = character(),\n",
    "                      vocabulary_id = character(),\n",
    "                      concept_class_id = character(),\n",
    "                      concept_code = character(),\n",
    "                      valid_start_date = as.Date(character()),\n",
    "                      valid_end_date = as.Date(character()),\n",
    "                      stringsAsFactors = FALSE)"
   ]
  },
  {
   "cell_type": "markdown",
   "metadata": {},
   "source": [
    "## Do necessary data column preprocessing \n",
    "- format the date of birth \n",
    "- generate three date/time columns for date of birth information, that are required by CDM `Person` table"
   ]
  },
  {
   "cell_type": "code",
   "execution_count": 21,
   "metadata": {},
   "outputs": [
    {
     "data": {
      "text/html": [
       "1000"
      ],
      "text/latex": [
       "1000"
      ],
      "text/markdown": [
       "1000"
      ],
      "text/plain": [
       "[1] 1000"
      ]
     },
     "metadata": {},
     "output_type": "display_data"
    }
   ],
   "source": [
    "# convert date of birth\n",
    "demography$date_of_birth <- dmy_hms(demography$date_of_birth)\n",
    "\n",
    "demography <- demography %>% dplyr::mutate(year_of_birth = lubridate::year(date_of_birth),\n",
    "                                           month_of_birth = lubridate::month(date_of_birth),\n",
    "                                           day_of_birth = lubridate::day(date_of_birth))\n",
    "\n",
    "nrow(as.data.frame(unique(demography$chi)))"
   ]
  },
  {
   "cell_type": "code",
   "execution_count": 22,
   "metadata": {},
   "outputs": [],
   "source": [
    "# select the data of each patient based on the newest dtCreated\n",
    "demography$dtCreated <- dmy_hms(demography$dtCreated)\n",
    "\n",
    "demography <- demography %>% dplyr::group_by(chi) %>% dplyr::filter(dtCreated == max(dtCreated))"
   ]
  },
  {
   "cell_type": "markdown",
   "metadata": {},
   "source": [
    "## Generate `person` dataframe from  `demography`\n",
    "- need to populate `concept` entries along the way"
   ]
  },
  {
   "cell_type": "code",
   "execution_count": 26,
   "metadata": {},
   "outputs": [],
   "source": [
    "person <- demography %>% select(chi,sex,year_of_birth)\n",
    "#str(person)\n",
    "\n",
    "# column: gender concept id --> 1 for male, 2 for female\n",
    "person$gender_concept_id <- ifelse(person$sex==\"M\",1,2)\n",
    "concept[nrow(concept)+1,] = list(1,\"male\",\"gender\",\"na\",\"na\",\"na\",\"1970/01/01\",\"2099/12/31\")\n",
    "concept[nrow(concept)+1,] = list(2,\"female\",\"gender\",\"na\",\"na\",\"na\",\"1970/01/01\",\"2099/12/31\")\n",
    "\n",
    "# column: race concept id (not included in badMedicine data) --> 3 for Chinese\n",
    "person$race_concept_id <- 3\n",
    "concept[nrow(concept)+1,] = list(3,\"chinese\",\"race\",\"na\",\"na\",\"na\",\"1970/01/01\",\"2099/12/31\")\n",
    "\n",
    "# column: ethnicity concept id (not included in bad Medicine data) --> 4 for non hispanic\n",
    "person$ethnicity_concept_id <- 4\n",
    "concept[nrow(concept)+1,] = list(4,\"non hispanic\",\"ethnicity\",\"na\",\"na\",\"na\",\"1970/01/01\",\"2099/12/31\")\n",
    "\n",
    "# column: gender source concept id\n",
    "person$gender_source_concept_id <- 0\n",
    "concept[nrow(concept)+1,] = list(0, \"no resource\", \"na\", \"na\", \"na\",\"na\",\"1970/01/01\",\"2099/12/31\")\n",
    "\n",
    "# column: race_source_concept_id\n",
    "person$race_source_concept_id <- 0\n",
    "\n",
    "# column: ethnicity source concept id\n",
    "person$ethnicity_source_concept_id <- 0\n",
    "\n",
    "# reoder column for import\n",
    "person <- person %>% select(chi,\n",
    "                            gender_concept_id,\n",
    "                            year_of_birth,\n",
    "                            race_concept_id,\n",
    "                            ethnicity_concept_id,\n",
    "                            gender_source_concept_id,\n",
    "                            race_source_concept_id,\n",
    "                            ethnicity_source_concept_id\n",
    ")"
   ]
  },
  {
   "cell_type": "code",
   "execution_count": 25,
   "metadata": {},
   "outputs": [
    {
     "data": {
      "text/html": [
       "<table>\n",
       "<caption>A grouped_df: 6 × 8</caption>\n",
       "<thead>\n",
       "\t<tr><th scope=col>chi</th><th scope=col>gender_concept_id</th><th scope=col>year_of_birth</th><th scope=col>race_concept_id</th><th scope=col>ethnicity_concept_id</th><th scope=col>gender_source_concept_id</th><th scope=col>race_source_concept_id</th><th scope=col>ethnicity_source_concept_id</th></tr>\n",
       "\t<tr><th scope=col>&lt;dbl&gt;</th><th scope=col>&lt;dbl&gt;</th><th scope=col>&lt;dbl&gt;</th><th scope=col>&lt;dbl&gt;</th><th scope=col>&lt;dbl&gt;</th><th scope=col>&lt;dbl&gt;</th><th scope=col>&lt;dbl&gt;</th><th scope=col>&lt;dbl&gt;</th></tr>\n",
       "</thead>\n",
       "<tbody>\n",
       "\t<tr><td>1001408588</td><td>1</td><td>1940</td><td>3</td><td>4</td><td>0</td><td>0</td><td>0</td></tr>\n",
       "\t<tr><td>2709858218</td><td>2</td><td>1985</td><td>3</td><td>4</td><td>0</td><td>0</td><td>0</td></tr>\n",
       "\t<tr><td>1207378126</td><td>1</td><td>1937</td><td>3</td><td>4</td><td>0</td><td>0</td><td>0</td></tr>\n",
       "\t<tr><td>1711545825</td><td>1</td><td>1954</td><td>3</td><td>4</td><td>0</td><td>0</td><td>0</td></tr>\n",
       "\t<tr><td> 409056284</td><td>1</td><td>2005</td><td>3</td><td>4</td><td>0</td><td>0</td><td>0</td></tr>\n",
       "\t<tr><td>2008837417</td><td>2</td><td>1983</td><td>3</td><td>4</td><td>0</td><td>0</td><td>0</td></tr>\n",
       "</tbody>\n",
       "</table>\n"
      ],
      "text/latex": [
       "A grouped\\_df: 6 × 8\n",
       "\\begin{tabular}{llllllll}\n",
       " chi & gender\\_concept\\_id & year\\_of\\_birth & race\\_concept\\_id & ethnicity\\_concept\\_id & gender\\_source\\_concept\\_id & race\\_source\\_concept\\_id & ethnicity\\_source\\_concept\\_id\\\\\n",
       " <dbl> & <dbl> & <dbl> & <dbl> & <dbl> & <dbl> & <dbl> & <dbl>\\\\\n",
       "\\hline\n",
       "\t 1001408588 & 1 & 1940 & 3 & 4 & 0 & 0 & 0\\\\\n",
       "\t 2709858218 & 2 & 1985 & 3 & 4 & 0 & 0 & 0\\\\\n",
       "\t 1207378126 & 1 & 1937 & 3 & 4 & 0 & 0 & 0\\\\\n",
       "\t 1711545825 & 1 & 1954 & 3 & 4 & 0 & 0 & 0\\\\\n",
       "\t  409056284 & 1 & 2005 & 3 & 4 & 0 & 0 & 0\\\\\n",
       "\t 2008837417 & 2 & 1983 & 3 & 4 & 0 & 0 & 0\\\\\n",
       "\\end{tabular}\n"
      ],
      "text/markdown": [
       "\n",
       "A grouped_df: 6 × 8\n",
       "\n",
       "| chi &lt;dbl&gt; | gender_concept_id &lt;dbl&gt; | year_of_birth &lt;dbl&gt; | race_concept_id &lt;dbl&gt; | ethnicity_concept_id &lt;dbl&gt; | gender_source_concept_id &lt;dbl&gt; | race_source_concept_id &lt;dbl&gt; | ethnicity_source_concept_id &lt;dbl&gt; |\n",
       "|---|---|---|---|---|---|---|---|\n",
       "| 1001408588 | 1 | 1940 | 3 | 4 | 0 | 0 | 0 |\n",
       "| 2709858218 | 2 | 1985 | 3 | 4 | 0 | 0 | 0 |\n",
       "| 1207378126 | 1 | 1937 | 3 | 4 | 0 | 0 | 0 |\n",
       "| 1711545825 | 1 | 1954 | 3 | 4 | 0 | 0 | 0 |\n",
       "|  409056284 | 1 | 2005 | 3 | 4 | 0 | 0 | 0 |\n",
       "| 2008837417 | 2 | 1983 | 3 | 4 | 0 | 0 | 0 |\n",
       "\n"
      ],
      "text/plain": [
       "  chi        gender_concept_id year_of_birth race_concept_id\n",
       "1 1001408588 1                 1940          3              \n",
       "2 2709858218 2                 1985          3              \n",
       "3 1207378126 1                 1937          3              \n",
       "4 1711545825 1                 1954          3              \n",
       "5  409056284 1                 2005          3              \n",
       "6 2008837417 2                 1983          3              \n",
       "  ethnicity_concept_id gender_source_concept_id race_source_concept_id\n",
       "1 4                    0                        0                     \n",
       "2 4                    0                        0                     \n",
       "3 4                    0                        0                     \n",
       "4 4                    0                        0                     \n",
       "5 4                    0                        0                     \n",
       "6 4                    0                        0                     \n",
       "  ethnicity_source_concept_id\n",
       "1 0                          \n",
       "2 0                          \n",
       "3 0                          \n",
       "4 0                          \n",
       "5 0                          \n",
       "6 0                          "
      ]
     },
     "metadata": {},
     "output_type": "display_data"
    }
   ],
   "source": [
    "head(person)"
   ]
  },
  {
   "cell_type": "markdown",
   "metadata": {},
   "source": [
    "## save the `person` dataframe as a csv file, which will be loaded the CDM database  "
   ]
  },
  {
   "cell_type": "code",
   "execution_count": 27,
   "metadata": {},
   "outputs": [],
   "source": [
    "### output\n",
    "write.csv(person, \"omop_person.csv\", row.names = FALSE)"
   ]
  },
  {
   "cell_type": "markdown",
   "metadata": {},
   "source": [
    "# Task 1. Map `Prescribing.csv` into CDM tables"
   ]
  },
  {
   "cell_type": "code",
   "execution_count": 30,
   "metadata": {},
   "outputs": [
    {
     "data": {
      "text/html": [
       "<table>\n",
       "<caption>A data.frame: 6 × 8</caption>\n",
       "<thead>\n",
       "\t<tr><th></th><th scope=col>drug_exposure_id</th><th scope=col>chi</th><th scope=col>drug_concept_id</th><th scope=col>drug_exposure_start_datetime</th><th scope=col>drug_exposure_end_datetime</th><th scope=col>drug_type_concept_id</th><th scope=col>route_concept_id</th><th scope=col>drug_source_concept_id</th></tr>\n",
       "\t<tr><th></th><th scope=col>&lt;chr&gt;</th><th scope=col>&lt;dbl&gt;</th><th scope=col>&lt;dbl&gt;</th><th scope=col>&lt;dttm&gt;</th><th scope=col>&lt;dttm&gt;</th><th scope=col>&lt;dbl&gt;</th><th scope=col>&lt;dbl&gt;</th><th scope=col>&lt;dbl&gt;</th></tr>\n",
       "</thead>\n",
       "<tbody>\n",
       "\t<tr><th scope=row>1</th><td>1</td><td>2306555010</td><td>10001</td><td>1997-01-06 18:47:13</td><td>2099-12-31</td><td>0</td><td>0</td><td>0</td></tr>\n",
       "\t<tr><th scope=row>2</th><td>2</td><td>2105917407</td><td>10002</td><td>1997-11-27 00:00:14</td><td>2099-12-31</td><td>0</td><td>0</td><td>0</td></tr>\n",
       "\t<tr><th scope=row>3</th><td>3</td><td>3004926220</td><td>10003</td><td>2013-05-21 09:16:19</td><td>2099-12-31</td><td>0</td><td>0</td><td>0</td></tr>\n",
       "\t<tr><th scope=row>4</th><td>4</td><td> 309935235</td><td>10004</td><td>2000-10-04 17:31:09</td><td>2099-12-31</td><td>0</td><td>0</td><td>0</td></tr>\n",
       "\t<tr><th scope=row>5</th><td>5</td><td>2405874216</td><td>10001</td><td>2017-07-18 13:36:19</td><td>2099-12-31</td><td>0</td><td>0</td><td>0</td></tr>\n",
       "\t<tr><th scope=row>6</th><td>6</td><td>1502223358</td><td>10005</td><td>1937-03-19 05:34:38</td><td>2099-12-31</td><td>0</td><td>0</td><td>0</td></tr>\n",
       "</tbody>\n",
       "</table>\n"
      ],
      "text/latex": [
       "A data.frame: 6 × 8\n",
       "\\begin{tabular}{r|llllllll}\n",
       "  & drug\\_exposure\\_id & chi & drug\\_concept\\_id & drug\\_exposure\\_start\\_datetime & drug\\_exposure\\_end\\_datetime & drug\\_type\\_concept\\_id & route\\_concept\\_id & drug\\_source\\_concept\\_id\\\\\n",
       "  & <chr> & <dbl> & <dbl> & <dttm> & <dttm> & <dbl> & <dbl> & <dbl>\\\\\n",
       "\\hline\n",
       "\t1 & 1 & 2306555010 & 10001 & 1997-01-06 18:47:13 & 2099-12-31 & 0 & 0 & 0\\\\\n",
       "\t2 & 2 & 2105917407 & 10002 & 1997-11-27 00:00:14 & 2099-12-31 & 0 & 0 & 0\\\\\n",
       "\t3 & 3 & 3004926220 & 10003 & 2013-05-21 09:16:19 & 2099-12-31 & 0 & 0 & 0\\\\\n",
       "\t4 & 4 &  309935235 & 10004 & 2000-10-04 17:31:09 & 2099-12-31 & 0 & 0 & 0\\\\\n",
       "\t5 & 5 & 2405874216 & 10001 & 2017-07-18 13:36:19 & 2099-12-31 & 0 & 0 & 0\\\\\n",
       "\t6 & 6 & 1502223358 & 10005 & 1937-03-19 05:34:38 & 2099-12-31 & 0 & 0 & 0\\\\\n",
       "\\end{tabular}\n"
      ],
      "text/markdown": [
       "\n",
       "A data.frame: 6 × 8\n",
       "\n",
       "| <!--/--> | drug_exposure_id &lt;chr&gt; | chi &lt;dbl&gt; | drug_concept_id &lt;dbl&gt; | drug_exposure_start_datetime &lt;dttm&gt; | drug_exposure_end_datetime &lt;dttm&gt; | drug_type_concept_id &lt;dbl&gt; | route_concept_id &lt;dbl&gt; | drug_source_concept_id &lt;dbl&gt; |\n",
       "|---|---|---|---|---|---|---|---|---|\n",
       "| 1 | 1 | 2306555010 | 10001 | 1997-01-06 18:47:13 | 2099-12-31 | 0 | 0 | 0 |\n",
       "| 2 | 2 | 2105917407 | 10002 | 1997-11-27 00:00:14 | 2099-12-31 | 0 | 0 | 0 |\n",
       "| 3 | 3 | 3004926220 | 10003 | 2013-05-21 09:16:19 | 2099-12-31 | 0 | 0 | 0 |\n",
       "| 4 | 4 |  309935235 | 10004 | 2000-10-04 17:31:09 | 2099-12-31 | 0 | 0 | 0 |\n",
       "| 5 | 5 | 2405874216 | 10001 | 2017-07-18 13:36:19 | 2099-12-31 | 0 | 0 | 0 |\n",
       "| 6 | 6 | 1502223358 | 10005 | 1937-03-19 05:34:38 | 2099-12-31 | 0 | 0 | 0 |\n",
       "\n"
      ],
      "text/plain": [
       "  drug_exposure_id chi        drug_concept_id drug_exposure_start_datetime\n",
       "1 1                2306555010 10001           1997-01-06 18:47:13         \n",
       "2 2                2105917407 10002           1997-11-27 00:00:14         \n",
       "3 3                3004926220 10003           2013-05-21 09:16:19         \n",
       "4 4                 309935235 10004           2000-10-04 17:31:09         \n",
       "5 5                2405874216 10001           2017-07-18 13:36:19         \n",
       "6 6                1502223358 10005           1937-03-19 05:34:38         \n",
       "  drug_exposure_end_datetime drug_type_concept_id route_concept_id\n",
       "1 2099-12-31                 0                    0               \n",
       "2 2099-12-31                 0                    0               \n",
       "3 2099-12-31                 0                    0               \n",
       "4 2099-12-31                 0                    0               \n",
       "5 2099-12-31                 0                    0               \n",
       "6 2099-12-31                 0                    0               \n",
       "  drug_source_concept_id\n",
       "1 0                     \n",
       "2 0                     \n",
       "3 0                     \n",
       "4 0                     \n",
       "5 0                     \n",
       "6 0                     "
      ]
     },
     "metadata": {},
     "output_type": "display_data"
    }
   ],
   "source": [
    "###################\n",
    "### prescribing ###\n",
    "###################\n",
    "prescribing <- read.csv(\"Prescribing.csv\",header = TRUE, sep = \",\",stringsAsFactors = FALSE)\n",
    "\n",
    "#################\n",
    "# drug exposure #\n",
    "#################\n",
    "\n",
    "# required: drug_exposure_id, person_id, drug_concept_id,  drug_exposure_start_datetime, drug_exposure_end_datetime, drug_type_concept_id, drug_source_concept_id\n",
    "# further work on quantity#############################################\n",
    "\n",
    "drug_exposure <- prescribing %>% select(chi,\n",
    "                                        BnfCode,\n",
    "                                        PrescribedDate)\n",
    "\n",
    "\n",
    "drug_exposure$drug_type_concept_id <- 0\n",
    "\n",
    "drug_exposure$drug_source_concept_id <- 0\n",
    "\n",
    "drug_exposure$route_concept_id <- 0\n",
    "\n",
    "# for drug_concept_id\n",
    "# bnf code --> concept id\n",
    "# self defined here\n",
    "bnf_list <- data.frame(unique(drug_exposure$BnfCode)) %>% drop_na()\n",
    "bnf_list$drug_concept_id <- seq(10001,nrow(bnf_list)+10000,by=1)\n",
    "\n",
    "drug_exposure <- left_join(drug_exposure,bnf_list,by = c(\"BnfCode\" = \"unique.drug_exposure.BnfCode.\"))\n",
    "\n",
    "# add to concept table\n",
    "concept_tmp <- data.frame(bnf_list$drug_concept_id) %>% rename(concept_id = bnf_list.drug_concept_id)\n",
    "concept_tmp$concept_name <- bnf_list$unique.drug_exposure.BnfCode.\n",
    "concept_tmp$domain_id <- \"drug\"\n",
    "concept_tmp$vocabulary_id <- \"bnf\"\n",
    "concept_tmp$concept_class_id <- \"na\"\n",
    "concept_tmp$concept_code <- \"na\"\n",
    "concept_tmp$valid_start_date <- \"1970/01/01\"\n",
    "concept_tmp$valid_end_date <- \"2099/12/31\"\n",
    "\n",
    "concept <- rbind(concept,concept_tmp)\n",
    "\n",
    "# assume prescribed date is start date\n",
    "drug_exposure$drug_exposure_start_datetime <- as.POSIXlt(drug_exposure$PrescribedDate, format = \"%d/%m/%Y %H:%M:%OS\")\n",
    "\n",
    "drug_exposure$drug_exposure_end_datetime <- as.POSIXlt(\"2099/12/31 00:00:00\")\n",
    "\n",
    "# id\n",
    "drug_exposure_id <- rownames(drug_exposure)\n",
    "drug_exposure <- cbind(drug_exposure_id,drug_exposure)\n",
    "\n",
    "# reorder columns and output csv\n",
    "drug_exposure <- drug_exposure %>% select(drug_exposure_id,\n",
    "                                          chi,\n",
    "                                          drug_concept_id,\n",
    "                                          drug_exposure_start_datetime,\n",
    "                                          drug_exposure_end_datetime,\n",
    "                                          drug_type_concept_id,\n",
    "                                          route_concept_id,\n",
    "                                          drug_source_concept_id)\n",
    "\n",
    "head(drug_exposure)\n",
    "write.csv(drug_exposure, \"omop_drug_exposure.csv\", row.names = FALSE)\n"
   ]
  },
  {
   "cell_type": "markdown",
   "metadata": {},
   "source": [
    "# Task 2. Map `HospitalAdmissions.csv` into CDM tables"
   ]
  },
  {
   "cell_type": "markdown",
   "metadata": {},
   "source": [
    "### Task 2.1 `visit` tables"
   ]
  },
  {
   "cell_type": "code",
   "execution_count": 33,
   "metadata": {},
   "outputs": [
    {
     "data": {
      "text/html": [
       "<table>\n",
       "<caption>A data.frame: 6 × 11</caption>\n",
       "<thead>\n",
       "\t<tr><th></th><th scope=col>visit_occurrence_id</th><th scope=col>chi</th><th scope=col>visit_concept_id</th><th scope=col>visit_start_date</th><th scope=col>visit_start_datetime</th><th scope=col>visit_end_date</th><th scope=col>visit_end_datetime</th><th scope=col>visit_type_concept_id</th><th scope=col>visit_source_concept_id</th><th scope=col>admitted_from_concept_id</th><th scope=col>discharge_to_concept_id</th></tr>\n",
       "\t<tr><th></th><th scope=col>&lt;chr&gt;</th><th scope=col>&lt;dbl&gt;</th><th scope=col>&lt;dbl&gt;</th><th scope=col>&lt;date&gt;</th><th scope=col>&lt;dttm&gt;</th><th scope=col>&lt;date&gt;</th><th scope=col>&lt;dttm&gt;</th><th scope=col>&lt;dbl&gt;</th><th scope=col>&lt;dbl&gt;</th><th scope=col>&lt;dbl&gt;</th><th scope=col>&lt;dbl&gt;</th></tr>\n",
       "</thead>\n",
       "<tbody>\n",
       "\t<tr><th scope=row>1</th><td>1</td><td>1202666427</td><td>5</td><td>2017-08-10</td><td>1900-01-01</td><td>2017-08-19</td><td>2099-12-31</td><td>0</td><td>0</td><td>0</td><td>0</td></tr>\n",
       "\t<tr><th scope=row>2</th><td>2</td><td> 202826676</td><td>5</td><td>1998-12-21</td><td>1900-01-01</td><td>1998-12-22</td><td>2099-12-31</td><td>0</td><td>0</td><td>0</td><td>0</td></tr>\n",
       "\t<tr><th scope=row>3</th><td>3</td><td>2308797724</td><td>5</td><td>2004-04-09</td><td>1900-01-01</td><td>2004-04-19</td><td>2099-12-31</td><td>0</td><td>0</td><td>0</td><td>0</td></tr>\n",
       "\t<tr><th scope=row>4</th><td>4</td><td> 908238013</td><td>5</td><td>2007-01-01</td><td>1900-01-01</td><td>2007-01-01</td><td>2099-12-31</td><td>0</td><td>0</td><td>0</td><td>0</td></tr>\n",
       "\t<tr><th scope=row>5</th><td>5</td><td> 703751920</td><td>5</td><td>1997-10-21</td><td>1900-01-01</td><td>1997-10-25</td><td>2099-12-31</td><td>0</td><td>0</td><td>0</td><td>0</td></tr>\n",
       "\t<tr><th scope=row>6</th><td>6</td><td> 912538317</td><td>5</td><td>2016-02-23</td><td>1900-01-01</td><td>2016-03-01</td><td>2099-12-31</td><td>0</td><td>0</td><td>0</td><td>0</td></tr>\n",
       "</tbody>\n",
       "</table>\n"
      ],
      "text/latex": [
       "A data.frame: 6 × 11\n",
       "\\begin{tabular}{r|lllllllllll}\n",
       "  & visit\\_occurrence\\_id & chi & visit\\_concept\\_id & visit\\_start\\_date & visit\\_start\\_datetime & visit\\_end\\_date & visit\\_end\\_datetime & visit\\_type\\_concept\\_id & visit\\_source\\_concept\\_id & admitted\\_from\\_concept\\_id & discharge\\_to\\_concept\\_id\\\\\n",
       "  & <chr> & <dbl> & <dbl> & <date> & <dttm> & <date> & <dttm> & <dbl> & <dbl> & <dbl> & <dbl>\\\\\n",
       "\\hline\n",
       "\t1 & 1 & 1202666427 & 5 & 2017-08-10 & 1900-01-01 & 2017-08-19 & 2099-12-31 & 0 & 0 & 0 & 0\\\\\n",
       "\t2 & 2 &  202826676 & 5 & 1998-12-21 & 1900-01-01 & 1998-12-22 & 2099-12-31 & 0 & 0 & 0 & 0\\\\\n",
       "\t3 & 3 & 2308797724 & 5 & 2004-04-09 & 1900-01-01 & 2004-04-19 & 2099-12-31 & 0 & 0 & 0 & 0\\\\\n",
       "\t4 & 4 &  908238013 & 5 & 2007-01-01 & 1900-01-01 & 2007-01-01 & 2099-12-31 & 0 & 0 & 0 & 0\\\\\n",
       "\t5 & 5 &  703751920 & 5 & 1997-10-21 & 1900-01-01 & 1997-10-25 & 2099-12-31 & 0 & 0 & 0 & 0\\\\\n",
       "\t6 & 6 &  912538317 & 5 & 2016-02-23 & 1900-01-01 & 2016-03-01 & 2099-12-31 & 0 & 0 & 0 & 0\\\\\n",
       "\\end{tabular}\n"
      ],
      "text/markdown": [
       "\n",
       "A data.frame: 6 × 11\n",
       "\n",
       "| <!--/--> | visit_occurrence_id &lt;chr&gt; | chi &lt;dbl&gt; | visit_concept_id &lt;dbl&gt; | visit_start_date &lt;date&gt; | visit_start_datetime &lt;dttm&gt; | visit_end_date &lt;date&gt; | visit_end_datetime &lt;dttm&gt; | visit_type_concept_id &lt;dbl&gt; | visit_source_concept_id &lt;dbl&gt; | admitted_from_concept_id &lt;dbl&gt; | discharge_to_concept_id &lt;dbl&gt; |\n",
       "|---|---|---|---|---|---|---|---|---|---|---|---|\n",
       "| 1 | 1 | 1202666427 | 5 | 2017-08-10 | 1900-01-01 | 2017-08-19 | 2099-12-31 | 0 | 0 | 0 | 0 |\n",
       "| 2 | 2 |  202826676 | 5 | 1998-12-21 | 1900-01-01 | 1998-12-22 | 2099-12-31 | 0 | 0 | 0 | 0 |\n",
       "| 3 | 3 | 2308797724 | 5 | 2004-04-09 | 1900-01-01 | 2004-04-19 | 2099-12-31 | 0 | 0 | 0 | 0 |\n",
       "| 4 | 4 |  908238013 | 5 | 2007-01-01 | 1900-01-01 | 2007-01-01 | 2099-12-31 | 0 | 0 | 0 | 0 |\n",
       "| 5 | 5 |  703751920 | 5 | 1997-10-21 | 1900-01-01 | 1997-10-25 | 2099-12-31 | 0 | 0 | 0 | 0 |\n",
       "| 6 | 6 |  912538317 | 5 | 2016-02-23 | 1900-01-01 | 2016-03-01 | 2099-12-31 | 0 | 0 | 0 | 0 |\n",
       "\n"
      ],
      "text/plain": [
       "  visit_occurrence_id chi        visit_concept_id visit_start_date\n",
       "1 1                   1202666427 5                2017-08-10      \n",
       "2 2                    202826676 5                1998-12-21      \n",
       "3 3                   2308797724 5                2004-04-09      \n",
       "4 4                    908238013 5                2007-01-01      \n",
       "5 5                    703751920 5                1997-10-21      \n",
       "6 6                    912538317 5                2016-02-23      \n",
       "  visit_start_datetime visit_end_date visit_end_datetime visit_type_concept_id\n",
       "1 1900-01-01           2017-08-19     2099-12-31         0                    \n",
       "2 1900-01-01           1998-12-22     2099-12-31         0                    \n",
       "3 1900-01-01           2004-04-19     2099-12-31         0                    \n",
       "4 1900-01-01           2007-01-01     2099-12-31         0                    \n",
       "5 1900-01-01           1997-10-25     2099-12-31         0                    \n",
       "6 1900-01-01           2016-03-01     2099-12-31         0                    \n",
       "  visit_source_concept_id admitted_from_concept_id discharge_to_concept_id\n",
       "1 0                       0                        0                      \n",
       "2 0                       0                        0                      \n",
       "3 0                       0                        0                      \n",
       "4 0                       0                        0                      \n",
       "5 0                       0                        0                      \n",
       "6 0                       0                        0                      "
      ]
     },
     "metadata": {},
     "output_type": "display_data"
    }
   ],
   "source": [
    "###############################\n",
    "### hospital administration ###\n",
    "###############################\n",
    "hospital_ad <- read.csv(\"HospitalAdmissions.csv\",header = TRUE, sep = \",\",stringsAsFactors = FALSE)\n",
    "\n",
    "####################\n",
    "# visit occurrence #\n",
    "####################\n",
    "# required: visit_occurrence_id, person_id, visit_concept_id, visit_start_datetime, visit_end_datetime, visit_type_concept_id, visit_source_concept_id, admitted_from_concept_id, discharge_to_concept_id\n",
    "# we also have: visit_start_date, visit_end_date\n",
    "\n",
    "# get data from hospitcal_ad\n",
    "visit_occurrence <- hospital_ad %>% select(chi,AdmissionDate,DischargeDate)\n",
    "\n",
    "\n",
    "# visit concept id\n",
    "# visit concept:https://athena.ohdsi.org/search-terms/terms?domain=Visit&standardConcept=Standard&page=7&pageSize=15&query=\n",
    "# visit concept: e.g. inpatient visit, outpatient visit, emergency, ambulance etc\n",
    "# cause our synthetic data is mimicksing smr01, assume they are all inpatient visit\n",
    "visit_occurrence$visit_concept_id <- 5\n",
    "concept[nrow(concept)+1,] = list(5,\"inpatient visit\",\"visit type\",\"na\",\"na\",\"na\",\"1970/01/01\",\"2099/12/31\")\n",
    "\n",
    "# visit_start_datetime and visit_end_datetime\n",
    "visit_occurrence$visit_start_datetime <- as.POSIXlt(\"1900/01/01 00:00:00\")\n",
    "visit_occurrence$visit_end_datetime <- as.POSIXlt(\"2099/12/31 00:00:00\")\n",
    "\n",
    "\n",
    "# visit type concept id\n",
    "# provenance of the visit record/ where the record comes from\n",
    "# https://athena.ohdsi.org/search-terms/terms?domain=Type+Concept&standardConcept=Standard&page=1&pageSize=15&query=\n",
    "visit_occurrence$visit_type_concept_id <- 0\n",
    "\n",
    "#visit_occurrence$visit_source_concept_id\n",
    "visit_occurrence$visit_source_concept_id <- 0\n",
    "#visit_occurrence$admitted_from_concept_id\n",
    "visit_occurrence$admitted_from_concept_id <- 0\n",
    "#visit_occurrence$discharge_to_concept_id\n",
    "visit_occurrence$discharge_to_concept_id <- 0\n",
    "\n",
    "# visit_start_date and visit_end_date\n",
    "visit_occurrence$visit_start_date <- as.Date(dmy_hms(visit_occurrence$AdmissionDate))\n",
    "visit_occurrence$visit_end_date <- as.Date(dmy_hms(visit_occurrence$DischargeDate))\n",
    "\n",
    "# visit_occurrence_id\n",
    "visit_occurrence_id <- rownames(visit_occurrence)\n",
    "visit_occurrence <- cbind(visit_occurrence_id,visit_occurrence)\n",
    "\n",
    "\n",
    "visit_occurrence <- visit_occurrence %>% select(visit_occurrence_id,\n",
    "                                                chi,\n",
    "                                                visit_concept_id,\n",
    "                                                visit_start_date,\n",
    "                                                visit_start_datetime,\n",
    "                                                visit_end_date,\n",
    "                                                visit_end_datetime,\n",
    "                                                visit_type_concept_id,\n",
    "                                                visit_source_concept_id,\n",
    "                                                admitted_from_concept_id,\n",
    "                                                discharge_to_concept_id)\n",
    "head(visit_occurrence)\n",
    "### output\n",
    "write.csv(visit_occurrence, \"omop_visit_occurence.csv\", row.names = FALSE)"
   ]
  },
  {
   "cell_type": "markdown",
   "metadata": {},
   "source": [
    "### Task 2.2 `Condition` tables"
   ]
  },
  {
   "cell_type": "code",
   "execution_count": 38,
   "metadata": {},
   "outputs": [
    {
     "data": {
      "text/html": [
       "<table>\n",
       "<caption>A data.frame: 6 × 9</caption>\n",
       "<thead>\n",
       "\t<tr><th></th><th scope=col>condition_occurrence_id</th><th scope=col>chi</th><th scope=col>condition_concept_id</th><th scope=col>condition_start_date</th><th scope=col>condition_start_datetime</th><th scope=col>condition_end_date</th><th scope=col>condition_type_concept_id</th><th scope=col>condition_status_concept_id</th><th scope=col>condition_source_concept_id</th></tr>\n",
       "\t<tr><th></th><th scope=col>&lt;chr&gt;</th><th scope=col>&lt;dbl&gt;</th><th scope=col>&lt;dbl&gt;</th><th scope=col>&lt;date&gt;</th><th scope=col>&lt;dttm&gt;</th><th scope=col>&lt;date&gt;</th><th scope=col>&lt;dbl&gt;</th><th scope=col>&lt;dbl&gt;</th><th scope=col>&lt;dbl&gt;</th></tr>\n",
       "</thead>\n",
       "<tbody>\n",
       "\t<tr><th scope=row>1</th><td>1</td><td>1202666427</td><td>1001</td><td>1900-01-01</td><td>1900-01-01</td><td>2099-12-31</td><td>0</td><td>0</td><td>0</td></tr>\n",
       "\t<tr><th scope=row>2</th><td>2</td><td> 202826676</td><td>1002</td><td>1900-01-01</td><td>1900-01-01</td><td>2099-12-31</td><td>0</td><td>0</td><td>0</td></tr>\n",
       "\t<tr><th scope=row>3</th><td>3</td><td>2308797724</td><td>1003</td><td>1900-01-01</td><td>1900-01-01</td><td>2099-12-31</td><td>0</td><td>0</td><td>0</td></tr>\n",
       "\t<tr><th scope=row>4</th><td>4</td><td> 908238013</td><td>1004</td><td>1900-01-01</td><td>1900-01-01</td><td>2099-12-31</td><td>0</td><td>0</td><td>0</td></tr>\n",
       "\t<tr><th scope=row>5</th><td>5</td><td> 703751920</td><td>1005</td><td>1900-01-01</td><td>1900-01-01</td><td>2099-12-31</td><td>0</td><td>0</td><td>0</td></tr>\n",
       "\t<tr><th scope=row>6</th><td>6</td><td> 912538317</td><td>1006</td><td>1900-01-01</td><td>1900-01-01</td><td>2099-12-31</td><td>0</td><td>0</td><td>0</td></tr>\n",
       "</tbody>\n",
       "</table>\n"
      ],
      "text/latex": [
       "A data.frame: 6 × 9\n",
       "\\begin{tabular}{r|lllllllll}\n",
       "  & condition\\_occurrence\\_id & chi & condition\\_concept\\_id & condition\\_start\\_date & condition\\_start\\_datetime & condition\\_end\\_date & condition\\_type\\_concept\\_id & condition\\_status\\_concept\\_id & condition\\_source\\_concept\\_id\\\\\n",
       "  & <chr> & <dbl> & <dbl> & <date> & <dttm> & <date> & <dbl> & <dbl> & <dbl>\\\\\n",
       "\\hline\n",
       "\t1 & 1 & 1202666427 & 1001 & 1900-01-01 & 1900-01-01 & 2099-12-31 & 0 & 0 & 0\\\\\n",
       "\t2 & 2 &  202826676 & 1002 & 1900-01-01 & 1900-01-01 & 2099-12-31 & 0 & 0 & 0\\\\\n",
       "\t3 & 3 & 2308797724 & 1003 & 1900-01-01 & 1900-01-01 & 2099-12-31 & 0 & 0 & 0\\\\\n",
       "\t4 & 4 &  908238013 & 1004 & 1900-01-01 & 1900-01-01 & 2099-12-31 & 0 & 0 & 0\\\\\n",
       "\t5 & 5 &  703751920 & 1005 & 1900-01-01 & 1900-01-01 & 2099-12-31 & 0 & 0 & 0\\\\\n",
       "\t6 & 6 &  912538317 & 1006 & 1900-01-01 & 1900-01-01 & 2099-12-31 & 0 & 0 & 0\\\\\n",
       "\\end{tabular}\n"
      ],
      "text/markdown": [
       "\n",
       "A data.frame: 6 × 9\n",
       "\n",
       "| <!--/--> | condition_occurrence_id &lt;chr&gt; | chi &lt;dbl&gt; | condition_concept_id &lt;dbl&gt; | condition_start_date &lt;date&gt; | condition_start_datetime &lt;dttm&gt; | condition_end_date &lt;date&gt; | condition_type_concept_id &lt;dbl&gt; | condition_status_concept_id &lt;dbl&gt; | condition_source_concept_id &lt;dbl&gt; |\n",
       "|---|---|---|---|---|---|---|---|---|---|\n",
       "| 1 | 1 | 1202666427 | 1001 | 1900-01-01 | 1900-01-01 | 2099-12-31 | 0 | 0 | 0 |\n",
       "| 2 | 2 |  202826676 | 1002 | 1900-01-01 | 1900-01-01 | 2099-12-31 | 0 | 0 | 0 |\n",
       "| 3 | 3 | 2308797724 | 1003 | 1900-01-01 | 1900-01-01 | 2099-12-31 | 0 | 0 | 0 |\n",
       "| 4 | 4 |  908238013 | 1004 | 1900-01-01 | 1900-01-01 | 2099-12-31 | 0 | 0 | 0 |\n",
       "| 5 | 5 |  703751920 | 1005 | 1900-01-01 | 1900-01-01 | 2099-12-31 | 0 | 0 | 0 |\n",
       "| 6 | 6 |  912538317 | 1006 | 1900-01-01 | 1900-01-01 | 2099-12-31 | 0 | 0 | 0 |\n",
       "\n"
      ],
      "text/plain": [
       "  condition_occurrence_id chi        condition_concept_id condition_start_date\n",
       "1 1                       1202666427 1001                 1900-01-01          \n",
       "2 2                        202826676 1002                 1900-01-01          \n",
       "3 3                       2308797724 1003                 1900-01-01          \n",
       "4 4                        908238013 1004                 1900-01-01          \n",
       "5 5                        703751920 1005                 1900-01-01          \n",
       "6 6                        912538317 1006                 1900-01-01          \n",
       "  condition_start_datetime condition_end_date condition_type_concept_id\n",
       "1 1900-01-01               2099-12-31         0                        \n",
       "2 1900-01-01               2099-12-31         0                        \n",
       "3 1900-01-01               2099-12-31         0                        \n",
       "4 1900-01-01               2099-12-31         0                        \n",
       "5 1900-01-01               2099-12-31         0                        \n",
       "6 1900-01-01               2099-12-31         0                        \n",
       "  condition_status_concept_id condition_source_concept_id\n",
       "1 0                           0                          \n",
       "2 0                           0                          \n",
       "3 0                           0                          \n",
       "4 0                           0                          \n",
       "5 0                           0                          \n",
       "6 0                           0                          "
      ]
     },
     "metadata": {},
     "output_type": "display_data"
    }
   ],
   "source": [
    "########################\n",
    "# condition occurrence #\n",
    "########################\n",
    "# e.g. diagnosis, sign, symptom observed\n",
    "# required: condition_occurrence_id, person_id, condition_concept_id, condition_start_date, condition_type_concept_id, condition_status_concept_id, condition_source_concept_id, \n",
    "condition_occurrence <- hospital_ad %>% select(chi,\n",
    "                                               MainCondition,\n",
    "                                               OtherCondition1,\n",
    "                                               OtherCondition2,\n",
    "                                               OtherCondition3)\n",
    "\n",
    "\n",
    "condition_occurrence[condition_occurrence==\"\"] <- NA\n",
    "condition_occurrence[condition_occurrence==\"null\"] <- NA\n",
    "condition_occurrence[condition_occurrence==\"NULL\"] <- NA\n",
    "condition_occurrence[condition_occurrence==\"nul\"] <- NA\n",
    "condition_occurrence[condition_occurrence==\"Nul\"] <- NA\n",
    "\n",
    "condition1 <- condition_occurrence %>% select(chi,OtherCondition1) %>% drop_na(OtherCondition1)\n",
    "condition2 <- condition_occurrence %>% select(chi,OtherCondition2) %>% drop_na(OtherCondition2)\n",
    "condition3 <- condition_occurrence %>% select(chi,OtherCondition3) %>% drop_na(OtherCondition3)\n",
    "\n",
    "condition_occurrence <- condition_occurrence %>% select(chi,MainCondition)\n",
    "\n",
    "condition_occurrence <- rbind(condition_occurrence,\n",
    "                              setNames(condition1,names(condition_occurrence)),\n",
    "                              setNames(condition2,names(condition_occurrence)),\n",
    "                              setNames(condition3,names(condition_occurrence)))\n",
    "\n",
    "\n",
    "\n",
    "# using the unique conditions appeared in this table to generate condition concept id\n",
    "condition_list <- data.frame(unique(condition_occurrence$MainCondition)) %>% drop_na()\n",
    "condition_list$condition_concept_id <- seq(1001,nrow(condition_list)+1000,by=1)\n",
    "\n",
    "condition_occurrence <- left_join(condition_occurrence,condition_list,by = c(\"MainCondition\"=\"unique.condition_occurrence.MainCondition.\"))\n",
    "\n",
    "# add concepts to concept table\n",
    "concept_tmp <- data.frame(condition_list$condition_concept_id) %>% rename(concept_id = condition_list.condition_concept_id)\n",
    "concept_tmp$concept_name <- condition_list$unique.condition_occurrence.MainCondition.\n",
    "concept_tmp$domain_id <- \"condition\"\n",
    "concept_tmp$vocabulary_id <- \"icd10\"\n",
    "concept_tmp$concept_class_id <- \"na\"\n",
    "concept_tmp$concept_code <- \"na\"\n",
    "concept_tmp$valid_start_date <- \"1970/01/01\"\n",
    "concept_tmp$valid_end_date <- \"2099/12/31\"\n",
    "\n",
    "concept <- rbind(concept,concept_tmp)\n",
    "\n",
    "# condition start date and end date (no resource)\n",
    "condition_occurrence$condition_start_date <- as.Date(\"1900/01/01\")\n",
    "condition_occurrence$condition_end_date <- as.Date(\"2099/12/31\")\n",
    "condition_occurrence$condition_start_datetime <- as.POSIXlt(\"1900/01/01 00:00:00\")\n",
    "\n",
    "# condition type concept id (provenance of the condition records)\n",
    "condition_occurrence$condition_type_concept_id <- 0\n",
    "\n",
    "# condition status concept (e.g.admitting diagnosis, final diagnosis etc) (no information)\n",
    "condition_occurrence$condition_status_concept_id <- 0\n",
    "\n",
    "# condition source concept id\n",
    "condition_occurrence$condition_source_concept_id <- 0\n",
    "\n",
    "# id\n",
    "condition_occurrence_id <- rownames(condition_occurrence)\n",
    "condition_occurrence <- cbind(condition_occurrence_id,condition_occurrence)\n",
    "\n",
    "# reorder columns and output\n",
    "condition_occurrence <- condition_occurrence %>% select(condition_occurrence_id,\n",
    "                                                        chi,\n",
    "                                                        condition_concept_id,\n",
    "                                                        condition_start_date,\n",
    "                                                        condition_start_datetime,\n",
    "                                                        condition_end_date,\n",
    "                                                        condition_type_concept_id,\n",
    "                                                        condition_status_concept_id,\n",
    "                                                        condition_source_concept_id)\n",
    "\n",
    "\n",
    "head(condition_occurrence)\n",
    "write.csv(condition_occurrence, \"omop_condition_occurrence.csv\", row.names = FALSE)"
   ]
  },
  {
   "cell_type": "markdown",
   "metadata": {},
   "source": [
    "# Task 3. Map `Biochemistry.csv` into CDM tables"
   ]
  },
  {
   "cell_type": "code",
   "execution_count": 40,
   "metadata": {},
   "outputs": [
    {
     "data": {
      "text/html": [
       "<table>\n",
       "<caption>A data.frame: 6 × 8</caption>\n",
       "<thead>\n",
       "\t<tr><th></th><th scope=col>measurement_id</th><th scope=col>chi</th><th scope=col>measurement_concept_id</th><th scope=col>measurment_datetime</th><th scope=col>measurement_type_concept_id</th><th scope=col>value_as_number</th><th scope=col>measurement_source_concept_id</th><th scope=col>unit_source_value</th></tr>\n",
       "\t<tr><th></th><th scope=col>&lt;chr&gt;</th><th scope=col>&lt;dbl&gt;</th><th scope=col>&lt;dbl&gt;</th><th scope=col>&lt;dttm&gt;</th><th scope=col>&lt;dbl&gt;</th><th scope=col>&lt;dbl&gt;</th><th scope=col>&lt;dbl&gt;</th><th scope=col>&lt;chr&gt;</th></tr>\n",
       "</thead>\n",
       "<tbody>\n",
       "\t<tr><th scope=row>1</th><td>1</td><td>2205275324</td><td>100001</td><td>2011-01-01 07:34:16</td><td>0</td><td> 60.000000</td><td>0</td><td>mL/min</td></tr>\n",
       "\t<tr><th scope=row>2</th><td>2</td><td> 610397156</td><td>100002</td><td>1948-04-07 00:12:56</td><td>0</td><td>  1.735227</td><td>0</td><td>g/L   </td></tr>\n",
       "\t<tr><th scope=row>3</th><td>3</td><td>2001699015</td><td>100003</td><td>2013-12-07 18:23:51</td><td>0</td><td>  3.114884</td><td>0</td><td>mmol/L</td></tr>\n",
       "\t<tr><th scope=row>4</th><td>4</td><td> 408307572</td><td>100004</td><td>2012-01-13 12:50:55</td><td>0</td><td>  4.212943</td><td>0</td><td>mmol/L</td></tr>\n",
       "\t<tr><th scope=row>5</th><td>5</td><td>1108848748</td><td>100005</td><td>1999-06-26 11:13:39</td><td>0</td><td>  5.099626</td><td>0</td><td>NULL  </td></tr>\n",
       "\t<tr><th scope=row>6</th><td>6</td><td>2410523124</td><td>100006</td><td>1967-12-10 06:05:47</td><td>0</td><td>135.898107</td><td>0</td><td>mg/L  </td></tr>\n",
       "</tbody>\n",
       "</table>\n"
      ],
      "text/latex": [
       "A data.frame: 6 × 8\n",
       "\\begin{tabular}{r|llllllll}\n",
       "  & measurement\\_id & chi & measurement\\_concept\\_id & measurment\\_datetime & measurement\\_type\\_concept\\_id & value\\_as\\_number & measurement\\_source\\_concept\\_id & unit\\_source\\_value\\\\\n",
       "  & <chr> & <dbl> & <dbl> & <dttm> & <dbl> & <dbl> & <dbl> & <chr>\\\\\n",
       "\\hline\n",
       "\t1 & 1 & 2205275324 & 100001 & 2011-01-01 07:34:16 & 0 &  60.000000 & 0 & mL/min\\\\\n",
       "\t2 & 2 &  610397156 & 100002 & 1948-04-07 00:12:56 & 0 &   1.735227 & 0 & g/L   \\\\\n",
       "\t3 & 3 & 2001699015 & 100003 & 2013-12-07 18:23:51 & 0 &   3.114884 & 0 & mmol/L\\\\\n",
       "\t4 & 4 &  408307572 & 100004 & 2012-01-13 12:50:55 & 0 &   4.212943 & 0 & mmol/L\\\\\n",
       "\t5 & 5 & 1108848748 & 100005 & 1999-06-26 11:13:39 & 0 &   5.099626 & 0 & NULL  \\\\\n",
       "\t6 & 6 & 2410523124 & 100006 & 1967-12-10 06:05:47 & 0 & 135.898107 & 0 & mg/L  \\\\\n",
       "\\end{tabular}\n"
      ],
      "text/markdown": [
       "\n",
       "A data.frame: 6 × 8\n",
       "\n",
       "| <!--/--> | measurement_id &lt;chr&gt; | chi &lt;dbl&gt; | measurement_concept_id &lt;dbl&gt; | measurment_datetime &lt;dttm&gt; | measurement_type_concept_id &lt;dbl&gt; | value_as_number &lt;dbl&gt; | measurement_source_concept_id &lt;dbl&gt; | unit_source_value &lt;chr&gt; |\n",
       "|---|---|---|---|---|---|---|---|---|\n",
       "| 1 | 1 | 2205275324 | 100001 | 2011-01-01 07:34:16 | 0 |  60.000000 | 0 | mL/min |\n",
       "| 2 | 2 |  610397156 | 100002 | 1948-04-07 00:12:56 | 0 |   1.735227 | 0 | g/L    |\n",
       "| 3 | 3 | 2001699015 | 100003 | 2013-12-07 18:23:51 | 0 |   3.114884 | 0 | mmol/L |\n",
       "| 4 | 4 |  408307572 | 100004 | 2012-01-13 12:50:55 | 0 |   4.212943 | 0 | mmol/L |\n",
       "| 5 | 5 | 1108848748 | 100005 | 1999-06-26 11:13:39 | 0 |   5.099626 | 0 | NULL   |\n",
       "| 6 | 6 | 2410523124 | 100006 | 1967-12-10 06:05:47 | 0 | 135.898107 | 0 | mg/L   |\n",
       "\n"
      ],
      "text/plain": [
       "  measurement_id chi        measurement_concept_id measurment_datetime\n",
       "1 1              2205275324 100001                 2011-01-01 07:34:16\n",
       "2 2               610397156 100002                 1948-04-07 00:12:56\n",
       "3 3              2001699015 100003                 2013-12-07 18:23:51\n",
       "4 4               408307572 100004                 2012-01-13 12:50:55\n",
       "5 5              1108848748 100005                 1999-06-26 11:13:39\n",
       "6 6              2410523124 100006                 1967-12-10 06:05:47\n",
       "  measurement_type_concept_id value_as_number measurement_source_concept_id\n",
       "1 0                            60.000000      0                            \n",
       "2 0                             1.735227      0                            \n",
       "3 0                             3.114884      0                            \n",
       "4 0                             4.212943      0                            \n",
       "5 0                             5.099626      0                            \n",
       "6 0                           135.898107      0                            \n",
       "  unit_source_value\n",
       "1 mL/min           \n",
       "2 g/L              \n",
       "3 mmol/L           \n",
       "4 mmol/L           \n",
       "5 NULL             \n",
       "6 mg/L             "
      ]
     },
     "metadata": {},
     "output_type": "display_data"
    }
   ],
   "source": [
    "####################\n",
    "### biochemistry ###\n",
    "####################\n",
    "biochemistry <- read.csv(\"Biochemistry.csv\",header = TRUE, sep = \",\",stringsAsFactors = FALSE)\n",
    "\n",
    "###############\n",
    "# measurement #\n",
    "###############\n",
    "\n",
    "# required: measurement_id, person_id, measurement_concept_id, measurement_datetime, measurement_type_concept_id, measurement_source_concept_id\n",
    "# will also look at: value_as_number, value_as_concept_id, unit_concept_id#######################\n",
    "\n",
    "measurement <- biochemistry %>% select(chi,\n",
    "                                       SampleDate,\n",
    "                                       TestCode,\n",
    "                                       Result,\n",
    "                                       QuantityUnit)\n",
    "\n",
    "\n",
    "\n",
    "measurement$measurement_type_concept_id <- 0\n",
    "\n",
    "measurement$measurement_source_concept_id <- 0\n",
    "\n",
    "# test code --> concept id\n",
    "# self defined here\n",
    "testcode_list <- data.frame(unique(measurement$TestCode)) %>% drop_na()\n",
    "testcode_list$measurement_concept_id <- seq(100001,nrow(testcode_list)+100000, by = 1)\n",
    "\n",
    "measurement <- left_join(measurement,testcode_list,by = c(\"TestCode\" = \"unique.measurement.TestCode.\"))\n",
    "\n",
    "# measurement_concept_id na replaced by 0\n",
    "measurement$measurement_concept_id[is.na(measurement$measurement_concept_id)] <- 0\n",
    "\n",
    "# add to concept table\n",
    "concept_tmp <- data.frame(testcode_list$measurement_concept_id) %>% rename(concept_id = testcode_list.measurement_concept_id)\n",
    "concept_tmp$concept_name <- testcode_list$unique.measurement.TestCode.\n",
    "concept_tmp$domain_id <- \"measurement\"\n",
    "concept_tmp$vocabulary_id <- \"test code\"\n",
    "concept_tmp$concept_class_id <- \"na\"\n",
    "concept_tmp$concept_code <- \"na\"\n",
    "concept_tmp$valid_start_date <- \"1970/01/01\"\n",
    "concept_tmp$valid_end_date <- \"2099/12/31\"\n",
    "\n",
    "concept <- rbind(concept,concept_tmp)\n",
    "\n",
    "# date\n",
    "measurement$measurment_datetime <- as.POSIXlt(paste(measurement$SampleDate,\"00:00:00\"),format = \"%d/%m/%Y %H:%M:%OS\")\n",
    "\n",
    "# result and quantityunit\n",
    "\n",
    "measurement$value_as_number <- measurement$Result\n",
    "measurement$value_as_number[is.na(measurement$value_as_number)] <- 0\n",
    "\n",
    "measurement$unit_source_value <- measurement$QuantityUnit\n",
    "######## unit need further work\n",
    "\n",
    "\n",
    "\n",
    "# id\n",
    "measurement_id <- rownames(measurement)\n",
    "measurement <- cbind(measurement_id,measurement)\n",
    "\n",
    "# reoder columns\n",
    "measurement <- measurement %>% select(measurement_id,\n",
    "                                      chi,\n",
    "                                      measurement_concept_id,\n",
    "                                      measurment_datetime,\n",
    "                                      measurement_type_concept_id,\n",
    "                                      value_as_number,\n",
    "                                      measurement_source_concept_id,\n",
    "                                      unit_source_value)\n",
    "\n",
    "\n",
    "head(measurement)\n",
    "\n",
    "### output\n",
    "write.csv(measurement, \"omop_measurement.csv\", row.names = FALSE)\n"
   ]
  },
  {
   "cell_type": "markdown",
   "metadata": {},
   "source": [
    "## Finnally, do NOT forget to populate `concept` tables"
   ]
  },
  {
   "cell_type": "code",
   "execution_count": 41,
   "metadata": {},
   "outputs": [],
   "source": [
    "###########\n",
    "# concept #\n",
    "###########\n",
    "\n",
    "write.csv(concept,\"omop_concept.csv\",row.names = FALSE)\n"
   ]
  },
  {
   "cell_type": "code",
   "execution_count": null,
   "metadata": {},
   "outputs": [],
   "source": []
  }
 ],
 "metadata": {
  "kernelspec": {
   "display_name": "R",
   "language": "R",
   "name": "ir"
  },
  "language_info": {
   "codemirror_mode": "r",
   "file_extension": ".r",
   "mimetype": "text/x-r-source",
   "name": "R",
   "pygments_lexer": "r",
   "version": "4.0.3"
  }
 },
 "nbformat": 4,
 "nbformat_minor": 5
}
