{
 "cells": [
  {
   "cell_type": "markdown",
   "id": "neither-bunny",
   "metadata": {},
   "source": [
    "## HDR Tutorial - Phenotype Computation\n",
    "- Tutors: Minhong Wang, Honghan Wu, Debbie Wake\n",
    "- University of Edinburgh\n",
    "- March 2021\n",
    "\n",
    "## Summary\n",
    "This tutorial illustrates the streamlined pipeline of applying health data science on routine data for research.\n",
    "\n",
    "## Table of Content\n",
    "1. Type 2 Diabetes by Diagnosis\n",
    "2. Type 2 Diabetes by Medication\n",
    "3. Drug episodes\n"
   ]
  },
  {
   "cell_type": "markdown",
   "id": "minute-scheme",
   "metadata": {},
   "source": [
    "## Phenotype definitions for Type 2 Diabetes"
   ]
  },
  {
   "cell_type": "code",
   "execution_count": null,
   "id": "naughty-string",
   "metadata": {},
   "outputs": [],
   "source": []
  }
 ],
 "metadata": {
  "kernelspec": {
   "display_name": "R",
   "language": "R",
   "name": "ir"
  },
  "language_info": {
   "codemirror_mode": "r",
   "file_extension": ".r",
   "mimetype": "text/x-r-source",
   "name": "R",
   "pygments_lexer": "r",
   "version": "4.0.3"
  }
 },
 "nbformat": 4,
 "nbformat_minor": 5
}
